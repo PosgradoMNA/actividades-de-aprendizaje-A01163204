{
  "nbformat": 4,
  "nbformat_minor": 0,
  "metadata": {
    "colab": {
      "provenance": [],
      "authorship_tag": "ABX9TyMYA1A6r86N9snUGoFNeKj/",
      "include_colab_link": true
    },
    "kernelspec": {
      "name": "python3",
      "display_name": "Python 3"
    },
    "language_info": {
      "name": "python"
    }
  },
  "cells": [
    {
      "cell_type": "markdown",
      "metadata": {
        "id": "view-in-github",
        "colab_type": "text"
      },
      "source": [
        "<a href=\"https://colab.research.google.com/github/PosgradoMNA/actividades-de-aprendizaje-A01163204/blob/main/Actividad_semana_01.ipynb\" target=\"_parent\"><img src=\"https://colab.research.google.com/assets/colab-badge.svg\" alt=\"Open In Colab\"/></a>"
      ]
    },
    {
      "cell_type": "code",
      "execution_count": 1,
      "metadata": {
        "colab": {
          "base_uri": "https://localhost:8080/"
        },
        "id": "zXfuGgwtruLP",
        "outputId": "eb32ae65-7d68-4b16-e7aa-40c64e495777"
      },
      "outputs": [
        {
          "output_type": "stream",
          "name": "stdout",
          "text": [
            "Hello World\n",
            "Hello\n",
            "World!\n"
          ]
        }
      ],
      "source": [
        "### Juan Carlos Torres Luna - A01163204\n",
        "### Modulo 1\n",
        "\n",
        "print(\"Hello World\")\n",
        "print(\"Hello\\nWorld!\")\n",
        "# Comments"
      ]
    },
    {
      "cell_type": "code",
      "source": [
        "## Type,  Casting\n",
        "type(\"Hello World\")\n",
        "type(\"1.1\")\n",
        "\n",
        "print(int(\"1\"))\n",
        "print(bool(\"1\"))"
      ],
      "metadata": {
        "colab": {
          "base_uri": "https://localhost:8080/"
        },
        "id": "lVyHGbc4sO_o",
        "outputId": "a343b83d-0c3f-42c9-adfd-5c52167bb77d"
      },
      "execution_count": 2,
      "outputs": [
        {
          "output_type": "stream",
          "name": "stdout",
          "text": [
            "1\n",
            "True\n"
          ]
        }
      ]
    },
    {
      "cell_type": "code",
      "source": [
        "## Slicing\n",
        "Letters = \"ASDFGHJKL\"\n",
        "Letters[0:5]\n",
        "\n",
        "## Strides\n",
        "Good=\"Guiouoiuio\"\n",
        "print(Good[::2])\n",
        "\n",
        "## Uppercase\n",
        "\"Test uppercase\".upper()"
      ],
      "metadata": {
        "colab": {
          "base_uri": "https://localhost:8080/",
          "height": 53
        },
        "id": "GqD6RqjZspQY",
        "outputId": "f7ea2dd8-6193-4335-ab24-8f657c2ac586"
      },
      "execution_count": 4,
      "outputs": [
        {
          "output_type": "stream",
          "name": "stdout",
          "text": [
            "Giuii\n"
          ]
        },
        {
          "output_type": "execute_result",
          "data": {
            "text/plain": [
              "'TEST UPPERCASE'"
            ],
            "application/vnd.google.colaboratory.intrinsic+json": {
              "type": "string"
            }
          },
          "metadata": {},
          "execution_count": 4
        }
      ]
    },
    {
      "cell_type": "code",
      "source": [
        "### Module 2\n",
        "\n",
        "## Tuple\n",
        "A = (0,1,2,3,4)\n",
        "print(A)\n",
        "print(A[0:2])\n",
        "\n",
        "## List \n",
        "B = [\"aa\",\"bb\",\"cc\"]\n",
        "B[0] = \"AA\"\n",
        "print(B)"
      ],
      "metadata": {
        "colab": {
          "base_uri": "https://localhost:8080/"
        },
        "id": "WJqfLkSxtHC1",
        "outputId": "a9769937-511e-4275-83ac-5f4aae7fdea4"
      },
      "execution_count": 5,
      "outputs": [
        {
          "output_type": "stream",
          "name": "stdout",
          "text": [
            "(0, 1, 2, 3, 4)\n",
            "(0, 1)\n",
            "['AA', 'bb', 'cc']\n"
          ]
        }
      ]
    },
    {
      "cell_type": "code",
      "source": [
        "## Cast a List to a Set\n",
        "\n",
        "['A','B','C','A','B','C']\n",
        "set(['A','B','C','A','B','C'])\n",
        "\n",
        "## Add element to a set\n",
        "S={'A','B','C'}\n",
        "S.add('D')\n",
        "S\n",
        "\n",
        "A={1,2,3,4,5}\n",
        "B={1,3,9, 12}\n",
        "\n",
        "A&B"
      ],
      "metadata": {
        "colab": {
          "base_uri": "https://localhost:8080/"
        },
        "id": "Ht-tgZ76tu2b",
        "outputId": "011d4d36-57a9-4d4e-8021-94e958f8c8e5"
      },
      "execution_count": 8,
      "outputs": [
        {
          "output_type": "execute_result",
          "data": {
            "text/plain": [
              "{1, 3}"
            ]
          },
          "metadata": {},
          "execution_count": 8
        }
      ]
    },
    {
      "cell_type": "code",
      "source": [
        "## Dictionary\n",
        "D={'a':1,'b':2,'c':3}\n",
        "D[\"a\"]\n",
        "D.keys()\n",
        "D.values()"
      ],
      "metadata": {
        "colab": {
          "base_uri": "https://localhost:8080/"
        },
        "id": "Oj-ZWWLft0uw",
        "outputId": "b8c425a6-a790-4639-c07d-ab5f51303465"
      },
      "execution_count": 10,
      "outputs": [
        {
          "output_type": "execute_result",
          "data": {
            "text/plain": [
              "dict_values([1, 2, 3])"
            ]
          },
          "metadata": {},
          "execution_count": 10
        }
      ]
    },
    {
      "cell_type": "code",
      "source": [
        "### Module 3\n",
        "\n",
        "## Comparison Operations\n",
        "\n",
        "a = 5\n",
        "a == 6\n",
        "a != 6\n",
        "\n",
        "## Branching\n",
        "\n",
        "x = 'a'\n",
        "if(x =='a'):\n",
        "    print(\"this is test with a\")\n",
        "else:\n",
        "    print(\"this is not a\")\n",
        "\n",
        "## Logic Operators\n",
        "\n",
        "y=0\n",
        "x=1\n",
        "x>0 and y<10"
      ],
      "metadata": {
        "colab": {
          "base_uri": "https://localhost:8080/"
        },
        "id": "2IlITMf2ub10",
        "outputId": "2268b9ab-656d-44df-e612-b8225a00ab58"
      },
      "execution_count": 11,
      "outputs": [
        {
          "output_type": "stream",
          "name": "stdout",
          "text": [
            "this is test with a\n"
          ]
        },
        {
          "output_type": "execute_result",
          "data": {
            "text/plain": [
              "True"
            ]
          },
          "metadata": {},
          "execution_count": 11
        }
      ]
    },
    {
      "cell_type": "code",
      "source": [
        "## For loops\n",
        "\n",
        "A=[3,4,5,6]\n",
        "for i in A:  \n",
        "    print(i) \n",
        "\n",
        "## While loops\n",
        "x= 3\n",
        "y=1\n",
        "while(y != x):\n",
        "    print(y)\n",
        "    y=y+1"
      ],
      "metadata": {
        "colab": {
          "base_uri": "https://localhost:8080/"
        },
        "id": "m2attpNnvEMu",
        "outputId": "28e98461-262b-45a1-920d-6b4743acae8b"
      },
      "execution_count": 12,
      "outputs": [
        {
          "output_type": "stream",
          "name": "stdout",
          "text": [
            "3\n",
            "4\n",
            "5\n",
            "6\n",
            "1\n",
            "2\n"
          ]
        }
      ]
    },
    {
      "cell_type": "code",
      "source": [
        "## Function\n",
        "\n",
        "def f(a,b):\n",
        "  return a*b\n",
        "\n",
        "a=4\n",
        "b=3\n",
        "\n",
        "if a*b==f(a,b):   \n",
        "    print(\"Correct.\")   \n",
        "else:    \n",
        "    print(\"Incorrect.\")\n",
        "\n",
        "def passFunc():\n",
        "  pass"
      ],
      "metadata": {
        "colab": {
          "base_uri": "https://localhost:8080/"
        },
        "id": "aWWZiVSTvV9L",
        "outputId": "23522df2-4360-462c-a895-3ed83e18ab7e"
      },
      "execution_count": 13,
      "outputs": [
        {
          "output_type": "stream",
          "name": "stdout",
          "text": [
            "Correct.\n"
          ]
        }
      ]
    },
    {
      "cell_type": "code",
      "source": [
        "## Classes\n",
        "\n",
        "class Car(object):\n",
        "    def __init__(self,make,model,color,seats):\n",
        "        self.make=make;\n",
        "        self.model=model;\n",
        "        self.color=color;\n",
        "        self.owner_number=0; \n",
        "        self.seats=seats;\n",
        "    def car_info(self):\n",
        "        print(\"make: \",self.make)\n",
        "        print(\"model:\", self.model)\n",
        "        print(\"color:\",self.color)\n",
        "        print(\"number of owners:\",self.owner_number)\n",
        "        print(\"seats:\",self.seats)\n",
        "    def sell(self):\n",
        "        self.owner_number=self.owner_number+1\n",
        "\n",
        "make=\"BMW\"\n",
        "model=\"M3\"\n",
        "color=\"red\"\n",
        "seats=4\n",
        "my_car = Car(model=\"Accord\",make=\"Honda\",color=\"blue\",seats=4)\n",
        "my_car.car_info()\n"
      ],
      "metadata": {
        "colab": {
          "base_uri": "https://localhost:8080/"
        },
        "id": "DWc7s20Uvta1",
        "outputId": "ba801a42-afd8-4511-95b0-167acd21c0d1"
      },
      "execution_count": 14,
      "outputs": [
        {
          "output_type": "stream",
          "name": "stdout",
          "text": [
            "make:  Honda\n",
            "model: Accord\n",
            "color: blue\n",
            "number of owners: 0\n",
            "seats: 4\n"
          ]
        }
      ]
    },
    {
      "cell_type": "code",
      "source": [],
      "metadata": {
        "id": "vGAeRkU6wR11"
      },
      "execution_count": null,
      "outputs": []
    }
  ]
}
