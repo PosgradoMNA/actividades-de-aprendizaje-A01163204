{
  "metadata": {
    "language_info": {
      "codemirror_mode": {
        "name": "python",
        "version": 3
      },
      "file_extension": ".py",
      "mimetype": "text/x-python",
      "name": "python",
      "nbconvert_exporter": "python",
      "pygments_lexer": "ipython3",
      "version": "3.8"
    },
    "kernelspec": {
      "name": "python",
      "display_name": "Python (Pyodide)",
      "language": "python"
    },
    "colab": {
      "provenance": [],
      "include_colab_link": true
    }
  },
  "nbformat_minor": 0,
  "nbformat": 4,
  "cells": [
    {
      "cell_type": "markdown",
      "metadata": {
        "id": "view-in-github",
        "colab_type": "text"
      },
      "source": [
        "<a href=\"https://colab.research.google.com/github/PosgradoMNA/actividades-de-aprendizaje-A01163204/blob/main/Actividad_01_Semana_03.ipynb\" target=\"_parent\"><img src=\"https://colab.research.google.com/assets/colab-badge.svg\" alt=\"Open In Colab\"/></a>"
      ]
    },
    {
      "cell_type": "markdown",
      "source": [
        "### Semana 3 - Actividad 1\n",
        "### Nombre: Juan Carlos Torres Luna\n",
        "### Matricula: A01163204"
      ],
      "metadata": {
        "id": "qJaBcVMcE1_Z"
      }
    },
    {
      "cell_type": "markdown",
      "source": [
        "### Parte 1: Fundamentos de bases de datos\n"
      ],
      "metadata": {
        "id": "jd7p8CIbE1_e"
      }
    },
    {
      "cell_type": "markdown",
      "source": [
        "## Fundamentos de bases de datos y ciencia de datos\n",
        "\n",
        "En la ciencia de datos se tiene como prioridad la recolección y limpieza de los datos debido a su importancia al momento de procesarlos, \n",
        "tanto así que el 80% del tiempo en una investigación esta dedicado a estos pasos con el fin de usar los datos y tomar mejores decisiones\n",
        "para cumplir con los objetivos de la investigación. \n",
        "\n",
        "Dentro de las tareas de preprocesamiento de datos tenemos:\n",
        "•\tLimpieza de datos: Resolver incoherencias o corrección de valores atípicos y/o ruidosos\n",
        "•\tTransformación de datos: Normalización \n",
        "•\tReducción de datos: En caso de encontrar similitud con columnas evitarlas para eliminar complejidad y basura.\n",
        "\n",
        "\n"
      ],
      "metadata": {
        "id": "ZN3cR2h_E1_f"
      }
    },
    {
      "cell_type": "markdown",
      "source": [
        "## Fundamentos de almacenes de datos (DW) para ciencia de datos\n",
        "\n",
        "Este es un tipo de almacenado de datos que consiste en el depósito centralizado de información. Es muy importante en la ciencia de datos \n",
        "debido a que ahí se encuentran los datos a procesar durante toda la investigación. Lo ideal para usar machine learning día a día seria \n",
        "tener los datos distribuidos y no centralizados debido a los riesgos que tienen al almacenar todo en el mismo lugar, es por eso por lo \n",
        "que hoy en día empresas grandes se aprovechan del computo en la nube para el intercambio de datos.\n"
      ],
      "metadata": {
        "id": "bpE6JQy5E1_h"
      }
    },
    {
      "cell_type": "markdown",
      "source": [
        "### Parte 2: Selección y limpieza de datos en python"
      ],
      "metadata": {
        "id": "NLa3cWXQE1_i"
      }
    },
    {
      "cell_type": "markdown",
      "source": [
        "Importamos librerias\n",
        "\n",
        "Leemos el conjunto de datos"
      ],
      "metadata": {
        "id": "616pPXZnXXGp"
      }
    },
    {
      "cell_type": "code",
      "source": [
        "# Librerias\n",
        "import pandas as pd\n",
        "import numpy as np"
      ],
      "metadata": {
        "trusted": true,
        "id": "i_lt8mDeE1_i"
      },
      "execution_count": 1,
      "outputs": []
    },
    {
      "cell_type": "code",
      "source": [
        "# Conjunto de datos\n",
        "data_set = \"https://raw.githubusercontent.com/PosgradoMNA/Actividades_Aprendizaje-/main/default%20of%20credit%20card%20clients.csv\" "
      ],
      "metadata": {
        "trusted": true,
        "id": "Jz2Q5w_IE1_l"
      },
      "execution_count": 2,
      "outputs": []
    },
    {
      "cell_type": "code",
      "source": [
        "df = pd.read_csv(data_set)\n",
        "df"
      ],
      "metadata": {
        "trusted": true,
        "colab": {
          "base_uri": "https://localhost:8080/",
          "height": 424
        },
        "id": "OecusT7jE1_m",
        "outputId": "c56a52b2-8b19-453b-e8da-02842d6283bb"
      },
      "execution_count": 10,
      "outputs": [
        {
          "output_type": "execute_result",
          "data": {
            "text/plain": [
              "          ID      X1   X2   X3   X4    X5   X6   X7   X8   X9  ...      X15  \\\n",
              "0          1   20000  2.0  2.0  1.0  24.0  2.0  2.0 -1.0 -1.0  ...      0.0   \n",
              "1          2  120000  2.0  2.0  2.0  26.0 -1.0  2.0  0.0  0.0  ...   3272.0   \n",
              "2          3   90000  2.0  2.0  2.0  34.0  0.0  0.0  0.0  0.0  ...  14331.0   \n",
              "3          4   50000  2.0  2.0  1.0  37.0  0.0  0.0  0.0  0.0  ...  28314.0   \n",
              "4          5   50000  1.0  2.0  1.0  57.0 -1.0  0.0 -1.0  0.0  ...  20940.0   \n",
              "...      ...     ...  ...  ...  ...   ...  ...  ...  ...  ...  ...      ...   \n",
              "29995  29996  220000  1.0  3.0  1.0  39.0  0.0  0.0  0.0  0.0  ...  88004.0   \n",
              "29996  29997  150000  1.0  3.0  2.0  43.0 -1.0 -1.0 -1.0 -1.0  ...   8979.0   \n",
              "29997  29998   30000  1.0  2.0  2.0  37.0  4.0  3.0  2.0 -1.0  ...  20878.0   \n",
              "29998  29999   80000  1.0  3.0  1.0  41.0  1.0 -1.0  0.0  0.0  ...  52774.0   \n",
              "29999  30000   50000  1.0  2.0  1.0  46.0  0.0  0.0  0.0  0.0  ...  36535.0   \n",
              "\n",
              "           X16      X17      X18      X19      X20     X21      X22     X23  \\\n",
              "0          0.0      0.0      0.0    689.0      0.0     0.0      0.0     0.0   \n",
              "1       3455.0   3261.0      0.0   1000.0   1000.0  1000.0      0.0  2000.0   \n",
              "2      14948.0  15549.0   1518.0   1500.0   1000.0  1000.0   1000.0  5000.0   \n",
              "3      28959.0  29547.0   2000.0   2019.0   1200.0  1100.0   1069.0  1000.0   \n",
              "4      19146.0  19131.0   2000.0  36681.0  10000.0  9000.0    689.0   679.0   \n",
              "...        ...      ...      ...      ...      ...     ...      ...     ...   \n",
              "29995  31237.0  15980.0   8500.0  20000.0   5003.0  3047.0   5000.0  1000.0   \n",
              "29996   5190.0      0.0   1837.0   3526.0   8998.0   129.0      0.0     0.0   \n",
              "29997  20582.0  19357.0      0.0      0.0  22000.0  4200.0   2000.0  3100.0   \n",
              "29998  11855.0  48944.0  85900.0   3409.0   1178.0  1926.0  52964.0  1804.0   \n",
              "29999  32428.0  15313.0   2078.0   1800.0   1430.0  1000.0   1000.0  1000.0   \n",
              "\n",
              "         Y  \n",
              "0      1.0  \n",
              "1      1.0  \n",
              "2      0.0  \n",
              "3      0.0  \n",
              "4      0.0  \n",
              "...    ...  \n",
              "29995  0.0  \n",
              "29996  0.0  \n",
              "29997  1.0  \n",
              "29998  1.0  \n",
              "29999  1.0  \n",
              "\n",
              "[30000 rows x 25 columns]"
            ],
            "text/html": [
              "\n",
              "  <div id=\"df-1875bc1c-a5e7-4686-bfeb-8136f00f045e\">\n",
              "    <div class=\"colab-df-container\">\n",
              "      <div>\n",
              "<style scoped>\n",
              "    .dataframe tbody tr th:only-of-type {\n",
              "        vertical-align: middle;\n",
              "    }\n",
              "\n",
              "    .dataframe tbody tr th {\n",
              "        vertical-align: top;\n",
              "    }\n",
              "\n",
              "    .dataframe thead th {\n",
              "        text-align: right;\n",
              "    }\n",
              "</style>\n",
              "<table border=\"1\" class=\"dataframe\">\n",
              "  <thead>\n",
              "    <tr style=\"text-align: right;\">\n",
              "      <th></th>\n",
              "      <th>ID</th>\n",
              "      <th>X1</th>\n",
              "      <th>X2</th>\n",
              "      <th>X3</th>\n",
              "      <th>X4</th>\n",
              "      <th>X5</th>\n",
              "      <th>X6</th>\n",
              "      <th>X7</th>\n",
              "      <th>X8</th>\n",
              "      <th>X9</th>\n",
              "      <th>...</th>\n",
              "      <th>X15</th>\n",
              "      <th>X16</th>\n",
              "      <th>X17</th>\n",
              "      <th>X18</th>\n",
              "      <th>X19</th>\n",
              "      <th>X20</th>\n",
              "      <th>X21</th>\n",
              "      <th>X22</th>\n",
              "      <th>X23</th>\n",
              "      <th>Y</th>\n",
              "    </tr>\n",
              "  </thead>\n",
              "  <tbody>\n",
              "    <tr>\n",
              "      <th>0</th>\n",
              "      <td>1</td>\n",
              "      <td>20000</td>\n",
              "      <td>2.0</td>\n",
              "      <td>2.0</td>\n",
              "      <td>1.0</td>\n",
              "      <td>24.0</td>\n",
              "      <td>2.0</td>\n",
              "      <td>2.0</td>\n",
              "      <td>-1.0</td>\n",
              "      <td>-1.0</td>\n",
              "      <td>...</td>\n",
              "      <td>0.0</td>\n",
              "      <td>0.0</td>\n",
              "      <td>0.0</td>\n",
              "      <td>0.0</td>\n",
              "      <td>689.0</td>\n",
              "      <td>0.0</td>\n",
              "      <td>0.0</td>\n",
              "      <td>0.0</td>\n",
              "      <td>0.0</td>\n",
              "      <td>1.0</td>\n",
              "    </tr>\n",
              "    <tr>\n",
              "      <th>1</th>\n",
              "      <td>2</td>\n",
              "      <td>120000</td>\n",
              "      <td>2.0</td>\n",
              "      <td>2.0</td>\n",
              "      <td>2.0</td>\n",
              "      <td>26.0</td>\n",
              "      <td>-1.0</td>\n",
              "      <td>2.0</td>\n",
              "      <td>0.0</td>\n",
              "      <td>0.0</td>\n",
              "      <td>...</td>\n",
              "      <td>3272.0</td>\n",
              "      <td>3455.0</td>\n",
              "      <td>3261.0</td>\n",
              "      <td>0.0</td>\n",
              "      <td>1000.0</td>\n",
              "      <td>1000.0</td>\n",
              "      <td>1000.0</td>\n",
              "      <td>0.0</td>\n",
              "      <td>2000.0</td>\n",
              "      <td>1.0</td>\n",
              "    </tr>\n",
              "    <tr>\n",
              "      <th>2</th>\n",
              "      <td>3</td>\n",
              "      <td>90000</td>\n",
              "      <td>2.0</td>\n",
              "      <td>2.0</td>\n",
              "      <td>2.0</td>\n",
              "      <td>34.0</td>\n",
              "      <td>0.0</td>\n",
              "      <td>0.0</td>\n",
              "      <td>0.0</td>\n",
              "      <td>0.0</td>\n",
              "      <td>...</td>\n",
              "      <td>14331.0</td>\n",
              "      <td>14948.0</td>\n",
              "      <td>15549.0</td>\n",
              "      <td>1518.0</td>\n",
              "      <td>1500.0</td>\n",
              "      <td>1000.0</td>\n",
              "      <td>1000.0</td>\n",
              "      <td>1000.0</td>\n",
              "      <td>5000.0</td>\n",
              "      <td>0.0</td>\n",
              "    </tr>\n",
              "    <tr>\n",
              "      <th>3</th>\n",
              "      <td>4</td>\n",
              "      <td>50000</td>\n",
              "      <td>2.0</td>\n",
              "      <td>2.0</td>\n",
              "      <td>1.0</td>\n",
              "      <td>37.0</td>\n",
              "      <td>0.0</td>\n",
              "      <td>0.0</td>\n",
              "      <td>0.0</td>\n",
              "      <td>0.0</td>\n",
              "      <td>...</td>\n",
              "      <td>28314.0</td>\n",
              "      <td>28959.0</td>\n",
              "      <td>29547.0</td>\n",
              "      <td>2000.0</td>\n",
              "      <td>2019.0</td>\n",
              "      <td>1200.0</td>\n",
              "      <td>1100.0</td>\n",
              "      <td>1069.0</td>\n",
              "      <td>1000.0</td>\n",
              "      <td>0.0</td>\n",
              "    </tr>\n",
              "    <tr>\n",
              "      <th>4</th>\n",
              "      <td>5</td>\n",
              "      <td>50000</td>\n",
              "      <td>1.0</td>\n",
              "      <td>2.0</td>\n",
              "      <td>1.0</td>\n",
              "      <td>57.0</td>\n",
              "      <td>-1.0</td>\n",
              "      <td>0.0</td>\n",
              "      <td>-1.0</td>\n",
              "      <td>0.0</td>\n",
              "      <td>...</td>\n",
              "      <td>20940.0</td>\n",
              "      <td>19146.0</td>\n",
              "      <td>19131.0</td>\n",
              "      <td>2000.0</td>\n",
              "      <td>36681.0</td>\n",
              "      <td>10000.0</td>\n",
              "      <td>9000.0</td>\n",
              "      <td>689.0</td>\n",
              "      <td>679.0</td>\n",
              "      <td>0.0</td>\n",
              "    </tr>\n",
              "    <tr>\n",
              "      <th>...</th>\n",
              "      <td>...</td>\n",
              "      <td>...</td>\n",
              "      <td>...</td>\n",
              "      <td>...</td>\n",
              "      <td>...</td>\n",
              "      <td>...</td>\n",
              "      <td>...</td>\n",
              "      <td>...</td>\n",
              "      <td>...</td>\n",
              "      <td>...</td>\n",
              "      <td>...</td>\n",
              "      <td>...</td>\n",
              "      <td>...</td>\n",
              "      <td>...</td>\n",
              "      <td>...</td>\n",
              "      <td>...</td>\n",
              "      <td>...</td>\n",
              "      <td>...</td>\n",
              "      <td>...</td>\n",
              "      <td>...</td>\n",
              "      <td>...</td>\n",
              "    </tr>\n",
              "    <tr>\n",
              "      <th>29995</th>\n",
              "      <td>29996</td>\n",
              "      <td>220000</td>\n",
              "      <td>1.0</td>\n",
              "      <td>3.0</td>\n",
              "      <td>1.0</td>\n",
              "      <td>39.0</td>\n",
              "      <td>0.0</td>\n",
              "      <td>0.0</td>\n",
              "      <td>0.0</td>\n",
              "      <td>0.0</td>\n",
              "      <td>...</td>\n",
              "      <td>88004.0</td>\n",
              "      <td>31237.0</td>\n",
              "      <td>15980.0</td>\n",
              "      <td>8500.0</td>\n",
              "      <td>20000.0</td>\n",
              "      <td>5003.0</td>\n",
              "      <td>3047.0</td>\n",
              "      <td>5000.0</td>\n",
              "      <td>1000.0</td>\n",
              "      <td>0.0</td>\n",
              "    </tr>\n",
              "    <tr>\n",
              "      <th>29996</th>\n",
              "      <td>29997</td>\n",
              "      <td>150000</td>\n",
              "      <td>1.0</td>\n",
              "      <td>3.0</td>\n",
              "      <td>2.0</td>\n",
              "      <td>43.0</td>\n",
              "      <td>-1.0</td>\n",
              "      <td>-1.0</td>\n",
              "      <td>-1.0</td>\n",
              "      <td>-1.0</td>\n",
              "      <td>...</td>\n",
              "      <td>8979.0</td>\n",
              "      <td>5190.0</td>\n",
              "      <td>0.0</td>\n",
              "      <td>1837.0</td>\n",
              "      <td>3526.0</td>\n",
              "      <td>8998.0</td>\n",
              "      <td>129.0</td>\n",
              "      <td>0.0</td>\n",
              "      <td>0.0</td>\n",
              "      <td>0.0</td>\n",
              "    </tr>\n",
              "    <tr>\n",
              "      <th>29997</th>\n",
              "      <td>29998</td>\n",
              "      <td>30000</td>\n",
              "      <td>1.0</td>\n",
              "      <td>2.0</td>\n",
              "      <td>2.0</td>\n",
              "      <td>37.0</td>\n",
              "      <td>4.0</td>\n",
              "      <td>3.0</td>\n",
              "      <td>2.0</td>\n",
              "      <td>-1.0</td>\n",
              "      <td>...</td>\n",
              "      <td>20878.0</td>\n",
              "      <td>20582.0</td>\n",
              "      <td>19357.0</td>\n",
              "      <td>0.0</td>\n",
              "      <td>0.0</td>\n",
              "      <td>22000.0</td>\n",
              "      <td>4200.0</td>\n",
              "      <td>2000.0</td>\n",
              "      <td>3100.0</td>\n",
              "      <td>1.0</td>\n",
              "    </tr>\n",
              "    <tr>\n",
              "      <th>29998</th>\n",
              "      <td>29999</td>\n",
              "      <td>80000</td>\n",
              "      <td>1.0</td>\n",
              "      <td>3.0</td>\n",
              "      <td>1.0</td>\n",
              "      <td>41.0</td>\n",
              "      <td>1.0</td>\n",
              "      <td>-1.0</td>\n",
              "      <td>0.0</td>\n",
              "      <td>0.0</td>\n",
              "      <td>...</td>\n",
              "      <td>52774.0</td>\n",
              "      <td>11855.0</td>\n",
              "      <td>48944.0</td>\n",
              "      <td>85900.0</td>\n",
              "      <td>3409.0</td>\n",
              "      <td>1178.0</td>\n",
              "      <td>1926.0</td>\n",
              "      <td>52964.0</td>\n",
              "      <td>1804.0</td>\n",
              "      <td>1.0</td>\n",
              "    </tr>\n",
              "    <tr>\n",
              "      <th>29999</th>\n",
              "      <td>30000</td>\n",
              "      <td>50000</td>\n",
              "      <td>1.0</td>\n",
              "      <td>2.0</td>\n",
              "      <td>1.0</td>\n",
              "      <td>46.0</td>\n",
              "      <td>0.0</td>\n",
              "      <td>0.0</td>\n",
              "      <td>0.0</td>\n",
              "      <td>0.0</td>\n",
              "      <td>...</td>\n",
              "      <td>36535.0</td>\n",
              "      <td>32428.0</td>\n",
              "      <td>15313.0</td>\n",
              "      <td>2078.0</td>\n",
              "      <td>1800.0</td>\n",
              "      <td>1430.0</td>\n",
              "      <td>1000.0</td>\n",
              "      <td>1000.0</td>\n",
              "      <td>1000.0</td>\n",
              "      <td>1.0</td>\n",
              "    </tr>\n",
              "  </tbody>\n",
              "</table>\n",
              "<p>30000 rows × 25 columns</p>\n",
              "</div>\n",
              "      <button class=\"colab-df-convert\" onclick=\"convertToInteractive('df-1875bc1c-a5e7-4686-bfeb-8136f00f045e')\"\n",
              "              title=\"Convert this dataframe to an interactive table.\"\n",
              "              style=\"display:none;\">\n",
              "        \n",
              "  <svg xmlns=\"http://www.w3.org/2000/svg\" height=\"24px\"viewBox=\"0 0 24 24\"\n",
              "       width=\"24px\">\n",
              "    <path d=\"M0 0h24v24H0V0z\" fill=\"none\"/>\n",
              "    <path d=\"M18.56 5.44l.94 2.06.94-2.06 2.06-.94-2.06-.94-.94-2.06-.94 2.06-2.06.94zm-11 1L8.5 8.5l.94-2.06 2.06-.94-2.06-.94L8.5 2.5l-.94 2.06-2.06.94zm10 10l.94 2.06.94-2.06 2.06-.94-2.06-.94-.94-2.06-.94 2.06-2.06.94z\"/><path d=\"M17.41 7.96l-1.37-1.37c-.4-.4-.92-.59-1.43-.59-.52 0-1.04.2-1.43.59L10.3 9.45l-7.72 7.72c-.78.78-.78 2.05 0 2.83L4 21.41c.39.39.9.59 1.41.59.51 0 1.02-.2 1.41-.59l7.78-7.78 2.81-2.81c.8-.78.8-2.07 0-2.86zM5.41 20L4 18.59l7.72-7.72 1.47 1.35L5.41 20z\"/>\n",
              "  </svg>\n",
              "      </button>\n",
              "      \n",
              "  <style>\n",
              "    .colab-df-container {\n",
              "      display:flex;\n",
              "      flex-wrap:wrap;\n",
              "      gap: 12px;\n",
              "    }\n",
              "\n",
              "    .colab-df-convert {\n",
              "      background-color: #E8F0FE;\n",
              "      border: none;\n",
              "      border-radius: 50%;\n",
              "      cursor: pointer;\n",
              "      display: none;\n",
              "      fill: #1967D2;\n",
              "      height: 32px;\n",
              "      padding: 0 0 0 0;\n",
              "      width: 32px;\n",
              "    }\n",
              "\n",
              "    .colab-df-convert:hover {\n",
              "      background-color: #E2EBFA;\n",
              "      box-shadow: 0px 1px 2px rgba(60, 64, 67, 0.3), 0px 1px 3px 1px rgba(60, 64, 67, 0.15);\n",
              "      fill: #174EA6;\n",
              "    }\n",
              "\n",
              "    [theme=dark] .colab-df-convert {\n",
              "      background-color: #3B4455;\n",
              "      fill: #D2E3FC;\n",
              "    }\n",
              "\n",
              "    [theme=dark] .colab-df-convert:hover {\n",
              "      background-color: #434B5C;\n",
              "      box-shadow: 0px 1px 3px 1px rgba(0, 0, 0, 0.15);\n",
              "      filter: drop-shadow(0px 1px 2px rgba(0, 0, 0, 0.3));\n",
              "      fill: #FFFFFF;\n",
              "    }\n",
              "  </style>\n",
              "\n",
              "      <script>\n",
              "        const buttonEl =\n",
              "          document.querySelector('#df-1875bc1c-a5e7-4686-bfeb-8136f00f045e button.colab-df-convert');\n",
              "        buttonEl.style.display =\n",
              "          google.colab.kernel.accessAllowed ? 'block' : 'none';\n",
              "\n",
              "        async function convertToInteractive(key) {\n",
              "          const element = document.querySelector('#df-1875bc1c-a5e7-4686-bfeb-8136f00f045e');\n",
              "          const dataTable =\n",
              "            await google.colab.kernel.invokeFunction('convertToInteractive',\n",
              "                                                     [key], {});\n",
              "          if (!dataTable) return;\n",
              "\n",
              "          const docLinkHtml = 'Like what you see? Visit the ' +\n",
              "            '<a target=\"_blank\" href=https://colab.research.google.com/notebooks/data_table.ipynb>data table notebook</a>'\n",
              "            + ' to learn more about interactive tables.';\n",
              "          element.innerHTML = '';\n",
              "          dataTable['output_type'] = 'display_data';\n",
              "          await google.colab.output.renderOutput(dataTable, element);\n",
              "          const docLink = document.createElement('div');\n",
              "          docLink.innerHTML = docLinkHtml;\n",
              "          element.appendChild(docLink);\n",
              "        }\n",
              "      </script>\n",
              "    </div>\n",
              "  </div>\n",
              "  "
            ]
          },
          "metadata": {},
          "execution_count": 10
        }
      ]
    },
    {
      "cell_type": "code",
      "source": [
        "df.head()"
      ],
      "metadata": {
        "colab": {
          "base_uri": "https://localhost:8080/",
          "height": 236
        },
        "id": "7OMOZbRbKWJt",
        "outputId": "50adc51d-1c5e-4634-b8c6-9292b40ffd53"
      },
      "execution_count": 14,
      "outputs": [
        {
          "output_type": "execute_result",
          "data": {
            "text/plain": [
              "   ID      X1   X2   X3   X4    X5   X6   X7   X8   X9  ...      X15      X16  \\\n",
              "0   1   20000  2.0  2.0  1.0  24.0  2.0  2.0 -1.0 -1.0  ...      0.0      0.0   \n",
              "1   2  120000  2.0  2.0  2.0  26.0 -1.0  2.0  0.0  0.0  ...   3272.0   3455.0   \n",
              "2   3   90000  2.0  2.0  2.0  34.0  0.0  0.0  0.0  0.0  ...  14331.0  14948.0   \n",
              "3   4   50000  2.0  2.0  1.0  37.0  0.0  0.0  0.0  0.0  ...  28314.0  28959.0   \n",
              "4   5   50000  1.0  2.0  1.0  57.0 -1.0  0.0 -1.0  0.0  ...  20940.0  19146.0   \n",
              "\n",
              "       X17     X18      X19      X20     X21     X22     X23    Y  \n",
              "0      0.0     0.0    689.0      0.0     0.0     0.0     0.0  1.0  \n",
              "1   3261.0     0.0   1000.0   1000.0  1000.0     0.0  2000.0  1.0  \n",
              "2  15549.0  1518.0   1500.0   1000.0  1000.0  1000.0  5000.0  0.0  \n",
              "3  29547.0  2000.0   2019.0   1200.0  1100.0  1069.0  1000.0  0.0  \n",
              "4  19131.0  2000.0  36681.0  10000.0  9000.0   689.0   679.0  0.0  \n",
              "\n",
              "[5 rows x 25 columns]"
            ],
            "text/html": [
              "\n",
              "  <div id=\"df-ab1964a1-54f1-46aa-904c-a181395a71e4\">\n",
              "    <div class=\"colab-df-container\">\n",
              "      <div>\n",
              "<style scoped>\n",
              "    .dataframe tbody tr th:only-of-type {\n",
              "        vertical-align: middle;\n",
              "    }\n",
              "\n",
              "    .dataframe tbody tr th {\n",
              "        vertical-align: top;\n",
              "    }\n",
              "\n",
              "    .dataframe thead th {\n",
              "        text-align: right;\n",
              "    }\n",
              "</style>\n",
              "<table border=\"1\" class=\"dataframe\">\n",
              "  <thead>\n",
              "    <tr style=\"text-align: right;\">\n",
              "      <th></th>\n",
              "      <th>ID</th>\n",
              "      <th>X1</th>\n",
              "      <th>X2</th>\n",
              "      <th>X3</th>\n",
              "      <th>X4</th>\n",
              "      <th>X5</th>\n",
              "      <th>X6</th>\n",
              "      <th>X7</th>\n",
              "      <th>X8</th>\n",
              "      <th>X9</th>\n",
              "      <th>...</th>\n",
              "      <th>X15</th>\n",
              "      <th>X16</th>\n",
              "      <th>X17</th>\n",
              "      <th>X18</th>\n",
              "      <th>X19</th>\n",
              "      <th>X20</th>\n",
              "      <th>X21</th>\n",
              "      <th>X22</th>\n",
              "      <th>X23</th>\n",
              "      <th>Y</th>\n",
              "    </tr>\n",
              "  </thead>\n",
              "  <tbody>\n",
              "    <tr>\n",
              "      <th>0</th>\n",
              "      <td>1</td>\n",
              "      <td>20000</td>\n",
              "      <td>2.0</td>\n",
              "      <td>2.0</td>\n",
              "      <td>1.0</td>\n",
              "      <td>24.0</td>\n",
              "      <td>2.0</td>\n",
              "      <td>2.0</td>\n",
              "      <td>-1.0</td>\n",
              "      <td>-1.0</td>\n",
              "      <td>...</td>\n",
              "      <td>0.0</td>\n",
              "      <td>0.0</td>\n",
              "      <td>0.0</td>\n",
              "      <td>0.0</td>\n",
              "      <td>689.0</td>\n",
              "      <td>0.0</td>\n",
              "      <td>0.0</td>\n",
              "      <td>0.0</td>\n",
              "      <td>0.0</td>\n",
              "      <td>1.0</td>\n",
              "    </tr>\n",
              "    <tr>\n",
              "      <th>1</th>\n",
              "      <td>2</td>\n",
              "      <td>120000</td>\n",
              "      <td>2.0</td>\n",
              "      <td>2.0</td>\n",
              "      <td>2.0</td>\n",
              "      <td>26.0</td>\n",
              "      <td>-1.0</td>\n",
              "      <td>2.0</td>\n",
              "      <td>0.0</td>\n",
              "      <td>0.0</td>\n",
              "      <td>...</td>\n",
              "      <td>3272.0</td>\n",
              "      <td>3455.0</td>\n",
              "      <td>3261.0</td>\n",
              "      <td>0.0</td>\n",
              "      <td>1000.0</td>\n",
              "      <td>1000.0</td>\n",
              "      <td>1000.0</td>\n",
              "      <td>0.0</td>\n",
              "      <td>2000.0</td>\n",
              "      <td>1.0</td>\n",
              "    </tr>\n",
              "    <tr>\n",
              "      <th>2</th>\n",
              "      <td>3</td>\n",
              "      <td>90000</td>\n",
              "      <td>2.0</td>\n",
              "      <td>2.0</td>\n",
              "      <td>2.0</td>\n",
              "      <td>34.0</td>\n",
              "      <td>0.0</td>\n",
              "      <td>0.0</td>\n",
              "      <td>0.0</td>\n",
              "      <td>0.0</td>\n",
              "      <td>...</td>\n",
              "      <td>14331.0</td>\n",
              "      <td>14948.0</td>\n",
              "      <td>15549.0</td>\n",
              "      <td>1518.0</td>\n",
              "      <td>1500.0</td>\n",
              "      <td>1000.0</td>\n",
              "      <td>1000.0</td>\n",
              "      <td>1000.0</td>\n",
              "      <td>5000.0</td>\n",
              "      <td>0.0</td>\n",
              "    </tr>\n",
              "    <tr>\n",
              "      <th>3</th>\n",
              "      <td>4</td>\n",
              "      <td>50000</td>\n",
              "      <td>2.0</td>\n",
              "      <td>2.0</td>\n",
              "      <td>1.0</td>\n",
              "      <td>37.0</td>\n",
              "      <td>0.0</td>\n",
              "      <td>0.0</td>\n",
              "      <td>0.0</td>\n",
              "      <td>0.0</td>\n",
              "      <td>...</td>\n",
              "      <td>28314.0</td>\n",
              "      <td>28959.0</td>\n",
              "      <td>29547.0</td>\n",
              "      <td>2000.0</td>\n",
              "      <td>2019.0</td>\n",
              "      <td>1200.0</td>\n",
              "      <td>1100.0</td>\n",
              "      <td>1069.0</td>\n",
              "      <td>1000.0</td>\n",
              "      <td>0.0</td>\n",
              "    </tr>\n",
              "    <tr>\n",
              "      <th>4</th>\n",
              "      <td>5</td>\n",
              "      <td>50000</td>\n",
              "      <td>1.0</td>\n",
              "      <td>2.0</td>\n",
              "      <td>1.0</td>\n",
              "      <td>57.0</td>\n",
              "      <td>-1.0</td>\n",
              "      <td>0.0</td>\n",
              "      <td>-1.0</td>\n",
              "      <td>0.0</td>\n",
              "      <td>...</td>\n",
              "      <td>20940.0</td>\n",
              "      <td>19146.0</td>\n",
              "      <td>19131.0</td>\n",
              "      <td>2000.0</td>\n",
              "      <td>36681.0</td>\n",
              "      <td>10000.0</td>\n",
              "      <td>9000.0</td>\n",
              "      <td>689.0</td>\n",
              "      <td>679.0</td>\n",
              "      <td>0.0</td>\n",
              "    </tr>\n",
              "  </tbody>\n",
              "</table>\n",
              "<p>5 rows × 25 columns</p>\n",
              "</div>\n",
              "      <button class=\"colab-df-convert\" onclick=\"convertToInteractive('df-ab1964a1-54f1-46aa-904c-a181395a71e4')\"\n",
              "              title=\"Convert this dataframe to an interactive table.\"\n",
              "              style=\"display:none;\">\n",
              "        \n",
              "  <svg xmlns=\"http://www.w3.org/2000/svg\" height=\"24px\"viewBox=\"0 0 24 24\"\n",
              "       width=\"24px\">\n",
              "    <path d=\"M0 0h24v24H0V0z\" fill=\"none\"/>\n",
              "    <path d=\"M18.56 5.44l.94 2.06.94-2.06 2.06-.94-2.06-.94-.94-2.06-.94 2.06-2.06.94zm-11 1L8.5 8.5l.94-2.06 2.06-.94-2.06-.94L8.5 2.5l-.94 2.06-2.06.94zm10 10l.94 2.06.94-2.06 2.06-.94-2.06-.94-.94-2.06-.94 2.06-2.06.94z\"/><path d=\"M17.41 7.96l-1.37-1.37c-.4-.4-.92-.59-1.43-.59-.52 0-1.04.2-1.43.59L10.3 9.45l-7.72 7.72c-.78.78-.78 2.05 0 2.83L4 21.41c.39.39.9.59 1.41.59.51 0 1.02-.2 1.41-.59l7.78-7.78 2.81-2.81c.8-.78.8-2.07 0-2.86zM5.41 20L4 18.59l7.72-7.72 1.47 1.35L5.41 20z\"/>\n",
              "  </svg>\n",
              "      </button>\n",
              "      \n",
              "  <style>\n",
              "    .colab-df-container {\n",
              "      display:flex;\n",
              "      flex-wrap:wrap;\n",
              "      gap: 12px;\n",
              "    }\n",
              "\n",
              "    .colab-df-convert {\n",
              "      background-color: #E8F0FE;\n",
              "      border: none;\n",
              "      border-radius: 50%;\n",
              "      cursor: pointer;\n",
              "      display: none;\n",
              "      fill: #1967D2;\n",
              "      height: 32px;\n",
              "      padding: 0 0 0 0;\n",
              "      width: 32px;\n",
              "    }\n",
              "\n",
              "    .colab-df-convert:hover {\n",
              "      background-color: #E2EBFA;\n",
              "      box-shadow: 0px 1px 2px rgba(60, 64, 67, 0.3), 0px 1px 3px 1px rgba(60, 64, 67, 0.15);\n",
              "      fill: #174EA6;\n",
              "    }\n",
              "\n",
              "    [theme=dark] .colab-df-convert {\n",
              "      background-color: #3B4455;\n",
              "      fill: #D2E3FC;\n",
              "    }\n",
              "\n",
              "    [theme=dark] .colab-df-convert:hover {\n",
              "      background-color: #434B5C;\n",
              "      box-shadow: 0px 1px 3px 1px rgba(0, 0, 0, 0.15);\n",
              "      filter: drop-shadow(0px 1px 2px rgba(0, 0, 0, 0.3));\n",
              "      fill: #FFFFFF;\n",
              "    }\n",
              "  </style>\n",
              "\n",
              "      <script>\n",
              "        const buttonEl =\n",
              "          document.querySelector('#df-ab1964a1-54f1-46aa-904c-a181395a71e4 button.colab-df-convert');\n",
              "        buttonEl.style.display =\n",
              "          google.colab.kernel.accessAllowed ? 'block' : 'none';\n",
              "\n",
              "        async function convertToInteractive(key) {\n",
              "          const element = document.querySelector('#df-ab1964a1-54f1-46aa-904c-a181395a71e4');\n",
              "          const dataTable =\n",
              "            await google.colab.kernel.invokeFunction('convertToInteractive',\n",
              "                                                     [key], {});\n",
              "          if (!dataTable) return;\n",
              "\n",
              "          const docLinkHtml = 'Like what you see? Visit the ' +\n",
              "            '<a target=\"_blank\" href=https://colab.research.google.com/notebooks/data_table.ipynb>data table notebook</a>'\n",
              "            + ' to learn more about interactive tables.';\n",
              "          element.innerHTML = '';\n",
              "          dataTable['output_type'] = 'display_data';\n",
              "          await google.colab.output.renderOutput(dataTable, element);\n",
              "          const docLink = document.createElement('div');\n",
              "          docLink.innerHTML = docLinkHtml;\n",
              "          element.appendChild(docLink);\n",
              "        }\n",
              "      </script>\n",
              "    </div>\n",
              "  </div>\n",
              "  "
            ]
          },
          "metadata": {},
          "execution_count": 14
        }
      ]
    },
    {
      "cell_type": "markdown",
      "source": [
        "## Verificamos Ausencia de datos"
      ],
      "metadata": {
        "id": "EVlIlu9aXtc5"
      }
    },
    {
      "cell_type": "code",
      "source": [
        "\n",
        "df.isnull().values.any()"
      ],
      "metadata": {
        "colab": {
          "base_uri": "https://localhost:8080/"
        },
        "id": "Vyy057_3E1_o",
        "outputId": "0903c6b6-ad4a-46b8-cd3d-f91502e2f441"
      },
      "execution_count": 4,
      "outputs": [
        {
          "output_type": "execute_result",
          "data": {
            "text/plain": [
              "True"
            ]
          },
          "metadata": {},
          "execution_count": 4
        }
      ]
    },
    {
      "cell_type": "code",
      "source": [
        "df.isnull().any()"
      ],
      "metadata": {
        "colab": {
          "base_uri": "https://localhost:8080/"
        },
        "id": "LWwipr_aFQzt",
        "outputId": "f8e2ae68-ef67-4bd4-8254-385e8cc49630"
      },
      "execution_count": 11,
      "outputs": [
        {
          "output_type": "execute_result",
          "data": {
            "text/plain": [
              "ID     False\n",
              "X1     False\n",
              "X2      True\n",
              "X3      True\n",
              "X4      True\n",
              "X5      True\n",
              "X6      True\n",
              "X7      True\n",
              "X8      True\n",
              "X9      True\n",
              "X10     True\n",
              "X11     True\n",
              "X12     True\n",
              "X13     True\n",
              "X14     True\n",
              "X15     True\n",
              "X16     True\n",
              "X17     True\n",
              "X18     True\n",
              "X19     True\n",
              "X20     True\n",
              "X21     True\n",
              "X22     True\n",
              "X23     True\n",
              "Y       True\n",
              "dtype: bool"
            ]
          },
          "metadata": {},
          "execution_count": 11
        }
      ]
    },
    {
      "cell_type": "markdown",
      "source": [
        "## Identificamos Variable y su valor"
      ],
      "metadata": {
        "id": "Uv4UFqSqX11n"
      }
    },
    {
      "cell_type": "markdown",
      "source": [
        "**Gender (1 = male; 2 = female)**"
      ],
      "metadata": {
        "id": "jAUKwgHtKzgf"
      }
    },
    {
      "cell_type": "code",
      "source": [
        "df['X2'].value_counts()"
      ],
      "metadata": {
        "colab": {
          "base_uri": "https://localhost:8080/"
        },
        "id": "NTi8swaLFWdS",
        "outputId": "bb8f3935-acb1-49dd-8665-730f7d3cf1e2"
      },
      "execution_count": 16,
      "outputs": [
        {
          "output_type": "execute_result",
          "data": {
            "text/plain": [
              "2.0    18112\n",
              "1.0    11887\n",
              "Name: X2, dtype: int64"
            ]
          },
          "metadata": {},
          "execution_count": 16
        }
      ]
    },
    {
      "cell_type": "markdown",
      "source": [
        "**Education (1 = graduate school; 2 = university; 3 = high school; 4 = others)**"
      ],
      "metadata": {
        "id": "qgMAs2kDLFYp"
      }
    },
    {
      "cell_type": "code",
      "source": [
        "df['X3'].value_counts()"
      ],
      "metadata": {
        "colab": {
          "base_uri": "https://localhost:8080/"
        },
        "id": "gfAYG7OpITh1",
        "outputId": "6bf26a8d-a505-46ff-8dd0-7460a4cfb548"
      },
      "execution_count": 17,
      "outputs": [
        {
          "output_type": "execute_result",
          "data": {
            "text/plain": [
              "2.0    14030\n",
              "1.0    10585\n",
              "3.0     4915\n",
              "5.0      280\n",
              "4.0      123\n",
              "6.0       51\n",
              "0.0       14\n",
              "Name: X3, dtype: int64"
            ]
          },
          "metadata": {},
          "execution_count": 17
        }
      ]
    },
    {
      "cell_type": "markdown",
      "source": [
        "**Marital status (1 = married; 2 = single; 3 = others).**"
      ],
      "metadata": {
        "id": "kjohI4z4LNxW"
      }
    },
    {
      "cell_type": "code",
      "source": [
        "df['X4'].value_counts()"
      ],
      "metadata": {
        "colab": {
          "base_uri": "https://localhost:8080/"
        },
        "id": "xsA8-i7LLCZ4",
        "outputId": "239f99a9-fde9-4d83-f9db-a33d2daca465"
      },
      "execution_count": 18,
      "outputs": [
        {
          "output_type": "execute_result",
          "data": {
            "text/plain": [
              "2.0    15964\n",
              "1.0    13657\n",
              "3.0      323\n",
              "0.0       54\n",
              "Name: X4, dtype: int64"
            ]
          },
          "metadata": {},
          "execution_count": 18
        }
      ]
    },
    {
      "cell_type": "markdown",
      "source": [
        "**Age (year)**"
      ],
      "metadata": {
        "id": "lXn_bS2QLlSY"
      }
    },
    {
      "cell_type": "code",
      "source": [
        "df['X5'].max()"
      ],
      "metadata": {
        "colab": {
          "base_uri": "https://localhost:8080/"
        },
        "id": "qOeW3eVJLaK9",
        "outputId": "a1ae0634-55ec-4384-9be3-1d870c3e4f20"
      },
      "execution_count": 22,
      "outputs": [
        {
          "output_type": "execute_result",
          "data": {
            "text/plain": [
              "79.0"
            ]
          },
          "metadata": {},
          "execution_count": 22
        }
      ]
    },
    {
      "cell_type": "code",
      "source": [
        "df['X5'].min()"
      ],
      "metadata": {
        "colab": {
          "base_uri": "https://localhost:8080/"
        },
        "id": "U2P_wkyMLibP",
        "outputId": "184c51d8-cbcc-42e5-ad17-58a27916138e"
      },
      "execution_count": 23,
      "outputs": [
        {
          "output_type": "execute_result",
          "data": {
            "text/plain": [
              "21.0"
            ]
          },
          "metadata": {},
          "execution_count": 23
        }
      ]
    },
    {
      "cell_type": "code",
      "source": [
        "df['X5'].mean()"
      ],
      "metadata": {
        "colab": {
          "base_uri": "https://localhost:8080/"
        },
        "id": "2RJJpd9OL7Jy",
        "outputId": "adeb71bd-2440-4760-9d0d-717fa867ea67"
      },
      "execution_count": 25,
      "outputs": [
        {
          "output_type": "execute_result",
          "data": {
            "text/plain": [
              "35.484214035672615"
            ]
          },
          "metadata": {},
          "execution_count": 25
        }
      ]
    },
    {
      "cell_type": "markdown",
      "source": [
        "**X6 - X11 History of past payment**\n",
        "\n",
        "Status: \n",
        "\n",
        "* -1 represents fully paid,\n",
        "* 1 represents payment delay for one month, \n",
        "* 2=payment delay for two months,\n",
        "* 3=payment delay for three months,\n",
        "* 4=payment delay for four months,\n",
        "* 5=payment delay for five months,\n",
        "* 6=payment delay for six months,\n",
        "* 7=payment delay for seven months, \n",
        "* 8=payment delay for eight months, \n",
        "* 9=payment delay for nine months and above"
      ],
      "metadata": {
        "id": "E9unNplqMjIk"
      }
    },
    {
      "cell_type": "markdown",
      "source": [
        "**X6 = the repayment status in September, 2005**"
      ],
      "metadata": {
        "id": "srfHjtE5MFk9"
      }
    },
    {
      "cell_type": "code",
      "source": [
        "df['X6'].value_counts()"
      ],
      "metadata": {
        "colab": {
          "base_uri": "https://localhost:8080/"
        },
        "id": "BgkDmjhKOM-D",
        "outputId": "95e9a480-06e6-4136-ab4a-87ee56f4b0f2"
      },
      "execution_count": 26,
      "outputs": [
        {
          "output_type": "execute_result",
          "data": {
            "text/plain": [
              " 0.0    14736\n",
              "-1.0     5684\n",
              " 1.0     3688\n",
              "-2.0     2759\n",
              " 2.0     2667\n",
              " 3.0      322\n",
              " 4.0       76\n",
              " 5.0       26\n",
              " 8.0       19\n",
              " 6.0       11\n",
              " 7.0        9\n",
              "Name: X6, dtype: int64"
            ]
          },
          "metadata": {},
          "execution_count": 26
        }
      ]
    },
    {
      "cell_type": "markdown",
      "source": [
        "**X7 = the repayment status in August, 2005**"
      ],
      "metadata": {
        "id": "Sv9P23MPNrdv"
      }
    },
    {
      "cell_type": "code",
      "source": [
        "df['X7'].value_counts()"
      ],
      "metadata": {
        "colab": {
          "base_uri": "https://localhost:8080/"
        },
        "id": "rxiam9k8ObYL",
        "outputId": "54acb697-3f20-4e53-b651-c6ff221b1e67"
      },
      "execution_count": 27,
      "outputs": [
        {
          "output_type": "execute_result",
          "data": {
            "text/plain": [
              " 0.0    15728\n",
              "-1.0     6047\n",
              " 2.0     3927\n",
              "-2.0     3782\n",
              " 3.0      326\n",
              " 4.0       99\n",
              " 1.0       28\n",
              " 5.0       25\n",
              " 7.0       20\n",
              " 6.0       12\n",
              " 8.0        1\n",
              "Name: X7, dtype: int64"
            ]
          },
          "metadata": {},
          "execution_count": 27
        }
      ]
    },
    {
      "cell_type": "markdown",
      "source": [
        "**X8 = the repayment status in July, 2005**"
      ],
      "metadata": {
        "id": "y8PvXd3zNq9B"
      }
    },
    {
      "cell_type": "code",
      "source": [
        "df['X8'].value_counts()"
      ],
      "metadata": {
        "colab": {
          "base_uri": "https://localhost:8080/"
        },
        "id": "1puFjYUqOeY6",
        "outputId": "536f9eb9-53f6-430d-8845-43187f92b114"
      },
      "execution_count": 28,
      "outputs": [
        {
          "output_type": "execute_result",
          "data": {
            "text/plain": [
              " 0.0    15761\n",
              "-1.0     5935\n",
              "-2.0     4085\n",
              " 2.0     3819\n",
              " 3.0      240\n",
              " 4.0       76\n",
              " 7.0       27\n",
              " 6.0       23\n",
              " 5.0       21\n",
              " 1.0        4\n",
              " 8.0        2\n",
              "Name: X8, dtype: int64"
            ]
          },
          "metadata": {},
          "execution_count": 28
        }
      ]
    },
    {
      "cell_type": "markdown",
      "source": [
        "**X9 = the repayment status in June, 2005**"
      ],
      "metadata": {
        "id": "4rA1VUdZNqog"
      }
    },
    {
      "cell_type": "code",
      "source": [
        "df['X9'].value_counts()"
      ],
      "metadata": {
        "colab": {
          "base_uri": "https://localhost:8080/"
        },
        "id": "BEUUssUqOg0j",
        "outputId": "33973713-ad1d-4c7c-a6be-3c2e6066f1a1"
      },
      "execution_count": 29,
      "outputs": [
        {
          "output_type": "execute_result",
          "data": {
            "text/plain": [
              " 0.0    16450\n",
              "-1.0     5685\n",
              "-2.0     4348\n",
              " 2.0     3157\n",
              " 3.0      180\n",
              " 4.0       69\n",
              " 7.0       58\n",
              " 5.0       35\n",
              " 6.0        5\n",
              " 1.0        2\n",
              " 8.0        2\n",
              "Name: X9, dtype: int64"
            ]
          },
          "metadata": {},
          "execution_count": 29
        }
      ]
    },
    {
      "cell_type": "markdown",
      "source": [
        "**X10 = the repayment status in May, 2005**"
      ],
      "metadata": {
        "id": "tVzDKS0gNqRw"
      }
    },
    {
      "cell_type": "code",
      "source": [
        "df['X10'].value_counts()"
      ],
      "metadata": {
        "colab": {
          "base_uri": "https://localhost:8080/"
        },
        "id": "PsHoQsO3Oi5F",
        "outputId": "a1c67478-3c8f-4b78-d39b-2b75d3a3fee9"
      },
      "execution_count": 30,
      "outputs": [
        {
          "output_type": "execute_result",
          "data": {
            "text/plain": [
              " 0.0    16937\n",
              "-1.0     5535\n",
              "-2.0     4546\n",
              " 2.0     2624\n",
              " 3.0      178\n",
              " 4.0       84\n",
              " 7.0       58\n",
              " 5.0       17\n",
              " 6.0        4\n",
              " 8.0        1\n",
              "Name: X10, dtype: int64"
            ]
          },
          "metadata": {},
          "execution_count": 30
        }
      ]
    },
    {
      "cell_type": "markdown",
      "source": [
        "**X11 = the repayment status in April, 2005**"
      ],
      "metadata": {
        "id": "JBGICtvBNpRA"
      }
    },
    {
      "cell_type": "code",
      "source": [
        "df['X11'].value_counts()"
      ],
      "metadata": {
        "colab": {
          "base_uri": "https://localhost:8080/"
        },
        "id": "aapWqkQwOzN9",
        "outputId": "eb4fbb87-b2f7-4707-b674-32c1eb87234e"
      },
      "execution_count": 31,
      "outputs": [
        {
          "output_type": "execute_result",
          "data": {
            "text/plain": [
              " 0.0    16278\n",
              "-1.0     5735\n",
              "-2.0     4895\n",
              " 2.0     2765\n",
              " 3.0      184\n",
              " 4.0       49\n",
              " 7.0       46\n",
              " 6.0       19\n",
              " 5.0       13\n",
              " 8.0        2\n",
              "Name: X11, dtype: int64"
            ]
          },
          "metadata": {},
          "execution_count": 31
        }
      ]
    },
    {
      "cell_type": "markdown",
      "source": [
        "**X12 - X17 Amount of bill statement (NT dollar)**\n",
        "\n",
        "* X12 = amount of bill statement in September, 2005; \n",
        "* X13 = amount of bill statement in August, 2005;\n",
        "* X14 = amount of bill statement in July, 2005; \n",
        "* X15 = amount of bill statement in June, 2005; \n",
        "* X16 = amount of bill statement in May, 2005; \n",
        "* X17 = amount of bill statement in April, 2005. "
      ],
      "metadata": {
        "id": "ARgWhNZGPAYO"
      }
    },
    {
      "cell_type": "markdown",
      "source": [
        "**X18-X23 Amount of previous payment (NT dollar)**\n",
        "\n",
        "* X18 = amount paid in September, 2005; \n",
        "* X19 = amount paid in August, 2005;\n",
        "* X20 = amount paid in July, 2005;\n",
        "* X21 = amount paid in June, 2005;\n",
        "* X22 = amount paid in May, 2005;\n",
        "* X23 = amount paid in April, 2005. "
      ],
      "metadata": {
        "id": "jE-MOYEnPlQz"
      }
    },
    {
      "cell_type": "markdown",
      "source": [
        "**Y Credible or not credible clients**"
      ],
      "metadata": {
        "id": "PjBPnuCdQyFV"
      }
    },
    {
      "cell_type": "code",
      "source": [
        "df[\"Y\"].value_counts()"
      ],
      "metadata": {
        "colab": {
          "base_uri": "https://localhost:8080/"
        },
        "id": "l1iJC1kkO0Ho",
        "outputId": "d7cacd7f-fa96-4590-9996-a3651c851016"
      },
      "execution_count": 32,
      "outputs": [
        {
          "output_type": "execute_result",
          "data": {
            "text/plain": [
              "0.0    23362\n",
              "1.0     6635\n",
              "Name: Y, dtype: int64"
            ]
          },
          "metadata": {},
          "execution_count": 32
        }
      ]
    },
    {
      "cell_type": "markdown",
      "source": [
        "## Conocemos la cantidad a estudiar"
      ],
      "metadata": {
        "id": "6L0pZ6moYHT2"
      }
    },
    {
      "cell_type": "code",
      "source": [
        "df.info()"
      ],
      "metadata": {
        "colab": {
          "base_uri": "https://localhost:8080/"
        },
        "id": "LUydF7qKQ9pp",
        "outputId": "7715a86c-7e64-4daf-f821-4b07e7b3087c"
      },
      "execution_count": 33,
      "outputs": [
        {
          "output_type": "stream",
          "name": "stdout",
          "text": [
            "<class 'pandas.core.frame.DataFrame'>\n",
            "RangeIndex: 30000 entries, 0 to 29999\n",
            "Data columns (total 25 columns):\n",
            " #   Column  Non-Null Count  Dtype  \n",
            "---  ------  --------------  -----  \n",
            " 0   ID      30000 non-null  int64  \n",
            " 1   X1      30000 non-null  int64  \n",
            " 2   X2      29999 non-null  float64\n",
            " 3   X3      29998 non-null  float64\n",
            " 4   X4      29998 non-null  float64\n",
            " 5   X5      29995 non-null  float64\n",
            " 6   X6      29997 non-null  float64\n",
            " 7   X7      29995 non-null  float64\n",
            " 8   X8      29993 non-null  float64\n",
            " 9   X9      29991 non-null  float64\n",
            " 10  X10     29984 non-null  float64\n",
            " 11  X11     29986 non-null  float64\n",
            " 12  X12     29989 non-null  float64\n",
            " 13  X13     29989 non-null  float64\n",
            " 14  X14     29987 non-null  float64\n",
            " 15  X15     29985 non-null  float64\n",
            " 16  X16     29983 non-null  float64\n",
            " 17  X17     29990 non-null  float64\n",
            " 18  X18     29992 non-null  float64\n",
            " 19  X19     29991 non-null  float64\n",
            " 20  X20     29992 non-null  float64\n",
            " 21  X21     29989 non-null  float64\n",
            " 22  X22     29989 non-null  float64\n",
            " 23  X23     29995 non-null  float64\n",
            " 24  Y       29997 non-null  float64\n",
            "dtypes: float64(23), int64(2)\n",
            "memory usage: 5.7 MB\n"
          ]
        }
      ]
    },
    {
      "cell_type": "markdown",
      "source": [
        "Eliminamos primera columna ya que no influye en el analisis"
      ],
      "metadata": {
        "id": "bjN8q0XWYRIZ"
      }
    },
    {
      "cell_type": "code",
      "source": [
        "ndf1 = df.drop('ID', axis=1)"
      ],
      "metadata": {
        "id": "3DwHl_AHRCAI"
      },
      "execution_count": 93,
      "outputs": []
    },
    {
      "cell_type": "code",
      "source": [
        "ndf1.info()"
      ],
      "metadata": {
        "colab": {
          "base_uri": "https://localhost:8080/"
        },
        "id": "KukXE5c8ROSO",
        "outputId": "48d8ad7d-5c06-435e-ab15-ba3a965c3f8b"
      },
      "execution_count": 62,
      "outputs": [
        {
          "output_type": "stream",
          "name": "stdout",
          "text": [
            "<class 'pandas.core.frame.DataFrame'>\n",
            "RangeIndex: 30000 entries, 0 to 29999\n",
            "Data columns (total 24 columns):\n",
            " #   Column  Non-Null Count  Dtype  \n",
            "---  ------  --------------  -----  \n",
            " 0   X1      30000 non-null  int64  \n",
            " 1   X2      29999 non-null  float64\n",
            " 2   X3      29998 non-null  float64\n",
            " 3   X4      29998 non-null  float64\n",
            " 4   X5      29995 non-null  float64\n",
            " 5   X6      29997 non-null  float64\n",
            " 6   X7      29995 non-null  float64\n",
            " 7   X8      29993 non-null  float64\n",
            " 8   X9      29991 non-null  float64\n",
            " 9   X10     29984 non-null  float64\n",
            " 10  X11     29986 non-null  float64\n",
            " 11  X12     29989 non-null  float64\n",
            " 12  X13     29989 non-null  float64\n",
            " 13  X14     29987 non-null  float64\n",
            " 14  X15     29985 non-null  float64\n",
            " 15  X16     29983 non-null  float64\n",
            " 16  X17     29990 non-null  float64\n",
            " 17  X18     29992 non-null  float64\n",
            " 18  X19     29991 non-null  float64\n",
            " 19  X20     29992 non-null  float64\n",
            " 20  X21     29989 non-null  float64\n",
            " 21  X22     29989 non-null  float64\n",
            " 22  X23     29995 non-null  float64\n",
            " 23  Y       29997 non-null  float64\n",
            "dtypes: float64(23), int64(1)\n",
            "memory usage: 5.5 MB\n"
          ]
        }
      ]
    },
    {
      "cell_type": "markdown",
      "source": [
        "## Renombramos columnas para identificar mejor"
      ],
      "metadata": {
        "id": "FMZd4JL7YgGo"
      }
    },
    {
      "cell_type": "code",
      "source": [
        "ndf1 = ndf1.rename(columns={'X1': 'Amount_of_given_credit'})\n",
        "ndf1 = ndf1.rename(columns={'X2': 'Gender'})\n",
        "ndf1 = ndf1.rename(columns={'X3': 'Education'})\n",
        "ndf1 = ndf1.rename(columns={'X4': 'Marital_Status'})\n",
        "ndf1 = ndf1.rename(columns={'X5': 'Age'})\n",
        "ndf1 = ndf1.rename(columns={'X6': 'Pay01'})\n",
        "ndf1 = ndf1.rename(columns={'X7': 'Pay02'})\n",
        "ndf1 = ndf1.rename(columns={'X8': 'Pay03'})\n",
        "ndf1 = ndf1.rename(columns={'X9': 'Pay04'})\n",
        "ndf1 = ndf1.rename(columns={'X10': 'Pay05'})\n",
        "ndf1 = ndf1.rename(columns={'X11': 'Pay06'})\n",
        "ndf1 = ndf1.rename(columns={'X12': 'Amount_Bill_01'})\n",
        "ndf1 = ndf1.rename(columns={'X13': 'Amount_Bill_02'})\n",
        "ndf1 = ndf1.rename(columns={'X14': 'Amount_Bill_03'})\n",
        "ndf1 = ndf1.rename(columns={'X15': 'Amount_Bill_04'})\n",
        "ndf1 = ndf1.rename(columns={'X16': 'Amount_Bill_05'})\n",
        "ndf1 = ndf1.rename(columns={'X17': 'Amount_Bill_06'})\n",
        "ndf1 = ndf1.rename(columns={'X18': 'Amount_Prev_Pay_01'})\n",
        "ndf1 = ndf1.rename(columns={'X19': 'Amount_Prev_Pay_02'})\n",
        "ndf1 = ndf1.rename(columns={'X20': 'Amount_Prev_Pay_03'})\n",
        "ndf1 = ndf1.rename(columns={'X21': 'Amount_Prev_Pay_04'})\n",
        "ndf1 = ndf1.rename(columns={'X22': 'Amount_Prev_Pay_05'})\n",
        "ndf1 = ndf1.rename(columns={'X23': 'Amount_Prev_Pay_06'})\n",
        "ndf1 = ndf1.rename(columns={'Y': 'Credible_client'})"
      ],
      "metadata": {
        "id": "3M8lrQijRQ4L"
      },
      "execution_count": 94,
      "outputs": []
    },
    {
      "cell_type": "code",
      "source": [
        "ndf1.info()"
      ],
      "metadata": {
        "colab": {
          "base_uri": "https://localhost:8080/"
        },
        "id": "mFstbKvURwuZ",
        "outputId": "e3b6bcd7-8d5b-45ab-d3c8-470ac8f838b1"
      },
      "execution_count": 95,
      "outputs": [
        {
          "output_type": "stream",
          "name": "stdout",
          "text": [
            "<class 'pandas.core.frame.DataFrame'>\n",
            "RangeIndex: 30000 entries, 0 to 29999\n",
            "Data columns (total 24 columns):\n",
            " #   Column                  Non-Null Count  Dtype  \n",
            "---  ------                  --------------  -----  \n",
            " 0   Amount_of_given_credit  30000 non-null  int64  \n",
            " 1   Gender                  29999 non-null  float64\n",
            " 2   Education               29998 non-null  float64\n",
            " 3   Marital_Status          29998 non-null  float64\n",
            " 4   Age                     29995 non-null  float64\n",
            " 5   Pay01                   29997 non-null  float64\n",
            " 6   Pay02                   29995 non-null  float64\n",
            " 7   Pay03                   29993 non-null  float64\n",
            " 8   Pay04                   29991 non-null  float64\n",
            " 9   Pay05                   29984 non-null  float64\n",
            " 10  Pay06                   29986 non-null  float64\n",
            " 11  Amount_Bill_01          29989 non-null  float64\n",
            " 12  Amount_Bill_02          29989 non-null  float64\n",
            " 13  Amount_Bill_03          29987 non-null  float64\n",
            " 14  Amount_Bill_04          29985 non-null  float64\n",
            " 15  Amount_Bill_05          29983 non-null  float64\n",
            " 16  Amount_Bill_06          29990 non-null  float64\n",
            " 17  Amount_Prev_Pay_01      29992 non-null  float64\n",
            " 18  Amount_Prev_Pay_02      29991 non-null  float64\n",
            " 19  Amount_Prev_Pay_03      29992 non-null  float64\n",
            " 20  Amount_Prev_Pay_04      29989 non-null  float64\n",
            " 21  Amount_Prev_Pay_05      29989 non-null  float64\n",
            " 22  Amount_Prev_Pay_06      29995 non-null  float64\n",
            " 23  Credible_client         29997 non-null  float64\n",
            "dtypes: float64(23), int64(1)\n",
            "memory usage: 5.5 MB\n"
          ]
        }
      ]
    },
    {
      "cell_type": "markdown",
      "source": [
        "## Limpiamos datos primarios por columnas"
      ],
      "metadata": {
        "id": "xvxuV24FYqjA"
      }
    },
    {
      "cell_type": "markdown",
      "source": [
        "**Limpiamos datos de \"Education\"**\n",
        "\n",
        "Los valores 0, 5 y 6 se encuentran fuera de regla\n",
        "\n",
        "Se pueden considerar como 4 (*others*)"
      ],
      "metadata": {
        "id": "4tsqrD-bY0hs"
      }
    },
    {
      "cell_type": "code",
      "source": [
        "ndf1['Education'].value_counts()"
      ],
      "metadata": {
        "colab": {
          "base_uri": "https://localhost:8080/"
        },
        "id": "jWSrAXqoRysp",
        "outputId": "265dedae-9e66-4b95-cb23-77b49c81775a"
      },
      "execution_count": 96,
      "outputs": [
        {
          "output_type": "execute_result",
          "data": {
            "text/plain": [
              "2.0    14030\n",
              "1.0    10585\n",
              "3.0     4915\n",
              "5.0      280\n",
              "4.0      123\n",
              "6.0       51\n",
              "0.0       14\n",
              "Name: Education, dtype: int64"
            ]
          },
          "metadata": {},
          "execution_count": 96
        }
      ]
    },
    {
      "cell_type": "code",
      "source": [
        "to_clean_education = (ndf1.Education == 0) | (ndf1.Education == 5) | (ndf1.Education == 6)\n",
        "ndf1.loc[to_clean_education, 'Education'] = 4\n",
        "ndf1['Education'].value_counts() "
      ],
      "metadata": {
        "colab": {
          "base_uri": "https://localhost:8080/"
        },
        "id": "TjIR5JQhTuN2",
        "outputId": "d8d07bb0-f2c2-413b-9501-715f8165f771"
      },
      "execution_count": 97,
      "outputs": [
        {
          "output_type": "execute_result",
          "data": {
            "text/plain": [
              "2.0    14030\n",
              "1.0    10585\n",
              "3.0     4915\n",
              "4.0      468\n",
              "Name: Education, dtype: int64"
            ]
          },
          "metadata": {},
          "execution_count": 97
        }
      ]
    },
    {
      "cell_type": "markdown",
      "source": [
        "**Limpiamos datos de \"Marital_Status\"**\n",
        "\n",
        "El valor 0 se encuentra fuera de regla\n",
        "\n",
        "Se pueden considerar como 3 (others)"
      ],
      "metadata": {
        "id": "S-fCeAK_Zp8u"
      }
    },
    {
      "cell_type": "code",
      "source": [
        "ndf1['Marital_Status'].value_counts()"
      ],
      "metadata": {
        "colab": {
          "base_uri": "https://localhost:8080/"
        },
        "id": "9KZkr12GWGju",
        "outputId": "32bf344d-407b-4d18-a8c3-f654bbaa3797"
      },
      "execution_count": 98,
      "outputs": [
        {
          "output_type": "execute_result",
          "data": {
            "text/plain": [
              "2.0    15964\n",
              "1.0    13657\n",
              "3.0      323\n",
              "0.0       54\n",
              "Name: Marital_Status, dtype: int64"
            ]
          },
          "metadata": {},
          "execution_count": 98
        }
      ]
    },
    {
      "cell_type": "code",
      "source": [
        "to_clean_maritalStatus = (ndf1.Marital_Status == 0)\n",
        "ndf1.loc[to_clean_maritalStatus, 'Marital_Status'] = 3\n",
        "ndf1['Marital_Status'].value_counts()"
      ],
      "metadata": {
        "colab": {
          "base_uri": "https://localhost:8080/"
        },
        "id": "iGMIgOm8WQvZ",
        "outputId": "774a65c2-ab4a-4da8-d4ad-ce5237f29158"
      },
      "execution_count": 99,
      "outputs": [
        {
          "output_type": "execute_result",
          "data": {
            "text/plain": [
              "2.0    15964\n",
              "1.0    13657\n",
              "3.0      377\n",
              "Name: Marital_Status, dtype: int64"
            ]
          },
          "metadata": {},
          "execution_count": 99
        }
      ]
    },
    {
      "cell_type": "markdown",
      "source": [
        "## Limpiamos datos de pagos por columnas"
      ],
      "metadata": {
        "id": "wlcUrisHa7Pd"
      }
    },
    {
      "cell_type": "code",
      "source": [
        "ndf1['Pay01'].value_counts()"
      ],
      "metadata": {
        "colab": {
          "base_uri": "https://localhost:8080/"
        },
        "id": "9NFaaKiIW3LM",
        "outputId": "2e99efbd-212a-4032-b861-c7d39332c30a"
      },
      "execution_count": 100,
      "outputs": [
        {
          "output_type": "execute_result",
          "data": {
            "text/plain": [
              " 0.0    14736\n",
              "-1.0     5684\n",
              " 1.0     3688\n",
              "-2.0     2759\n",
              " 2.0     2667\n",
              " 3.0      322\n",
              " 4.0       76\n",
              " 5.0       26\n",
              " 8.0       19\n",
              " 6.0       11\n",
              " 7.0        9\n",
              "Name: Pay01, dtype: int64"
            ]
          },
          "metadata": {},
          "execution_count": 100
        }
      ]
    },
    {
      "cell_type": "markdown",
      "source": [
        "**Historial de Pagos**\n",
        "\n",
        "Los valores -2 y 0 no se encuentran considerados en regla\n",
        "\n",
        "Se utiliza 0 para indicar pago sin adeudos"
      ],
      "metadata": {
        "id": "3WrBB2Qxct-C"
      }
    },
    {
      "cell_type": "code",
      "source": [
        "to_clean_Pay01  = (ndf1.Pay01 == -2) | (ndf1.Pay01 == -1) | (ndf1.Pay01 == 0)\n",
        "to_clean_Pay02  = (ndf1.Pay02 == -2) | (ndf1.Pay02 == -1) | (ndf1.Pay02 == 0)\n",
        "to_clean_Pay03  = (ndf1.Pay03 == -2) | (ndf1.Pay03 == -1) | (ndf1.Pay03 == 0)\n",
        "to_clean_Pay04  = (ndf1.Pay04 == -2) | (ndf1.Pay04 == -1) | (ndf1.Pay04 == 0)\n",
        "to_clean_Pay05  = (ndf1.Pay05 == -2) | (ndf1.Pay05 == -1) | (ndf1.Pay05 == 0)\n",
        "to_clean_Pay06  = (ndf1.Pay06 == -2) | (ndf1.Pay06 == -1) | (ndf1.Pay06 == 0)"
      ],
      "metadata": {
        "id": "LfVybioTbPJd"
      },
      "execution_count": 101,
      "outputs": []
    },
    {
      "cell_type": "code",
      "source": [
        "ndf1.loc[to_clean_Pay01, 'Pay01'] = 0\n",
        "ndf1.loc[to_clean_Pay02, 'Pay02'] = 0\n",
        "ndf1.loc[to_clean_Pay03, 'Pay03'] = 0\n",
        "ndf1.loc[to_clean_Pay04, 'Pay04'] = 0\n",
        "ndf1.loc[to_clean_Pay05, 'Pay05'] = 0\n",
        "ndf1.loc[to_clean_Pay06, 'Pay06'] = 0"
      ],
      "metadata": {
        "id": "3Luv7oSBdJmi"
      },
      "execution_count": 102,
      "outputs": []
    },
    {
      "cell_type": "code",
      "source": [
        "ndf1['Pay01'].value_counts()"
      ],
      "metadata": {
        "colab": {
          "base_uri": "https://localhost:8080/"
        },
        "id": "-tFKaVGOdX_o",
        "outputId": "efad49ad-5ced-4d5c-a6f8-d354c64367f7"
      },
      "execution_count": 73,
      "outputs": [
        {
          "output_type": "execute_result",
          "data": {
            "text/plain": [
              "0.0    23179\n",
              "1.0     3688\n",
              "2.0     2667\n",
              "3.0      322\n",
              "4.0       76\n",
              "5.0       26\n",
              "8.0       19\n",
              "6.0       11\n",
              "7.0        9\n",
              "Name: Pay01, dtype: int64"
            ]
          },
          "metadata": {},
          "execution_count": 73
        }
      ]
    },
    {
      "cell_type": "markdown",
      "source": [
        "**Clientes**\n",
        "\n",
        "Si ha efectuado los pagos en todos los meses, deberia ser cliente con credibilidad\n",
        "Si se ha atrasado con los pagos, deberia ser cliente sin credibilidad"
      ],
      "metadata": {
        "id": "PeZdrubBfnEa"
      }
    },
    {
      "cell_type": "code",
      "source": [
        "ndf1['Credible_client'].value_counts()"
      ],
      "metadata": {
        "colab": {
          "base_uri": "https://localhost:8080/"
        },
        "id": "rn8d_PEndajn",
        "outputId": "eec849dc-5a77-4899-f155-515d5ceae34e"
      },
      "execution_count": 104,
      "outputs": [
        {
          "output_type": "execute_result",
          "data": {
            "text/plain": [
              "0.0    23362\n",
              "1.0     6635\n",
              "Name: Credible_client, dtype: int64"
            ]
          },
          "metadata": {},
          "execution_count": 104
        }
      ]
    },
    {
      "cell_type": "code",
      "source": [
        "good_customer = (ndf1.Pay01 == 0) & (ndf1.Pay02 == 0) & (ndf1.Pay03 == 0) & (ndf1.Pay04 == 0) & (ndf1.Pay05 == 0) & (ndf1.Pay06 == 0) & (ndf1.Credible_client == 1)\n",
        "potential_bad_customer = (ndf1.Pay01 > 0) & (ndf1.Pay02 > 0) & (ndf1.Pay03 > 0) & (ndf1.Pay04 > 0) & (ndf1.Pay05 > 0) & (ndf1.Pay06 > 0) & (ndf1.Credible_client == 0)"
      ],
      "metadata": {
        "id": "vplPd8NLeJ_D"
      },
      "execution_count": 105,
      "outputs": []
    },
    {
      "cell_type": "code",
      "source": [
        "ndf1.loc[good_customer, 'Credible_client'] = 0\n",
        "ndf1.loc[potential_bad_customer, 'Credible_client'] = 1"
      ],
      "metadata": {
        "id": "7XdQvPQ4fOnF"
      },
      "execution_count": 106,
      "outputs": []
    },
    {
      "cell_type": "code",
      "source": [
        "ndf1['Credible_client'].value_counts()"
      ],
      "metadata": {
        "colab": {
          "base_uri": "https://localhost:8080/"
        },
        "id": "NxD6nQz8fc-K",
        "outputId": "c23c2fff-c99a-4fec-8e13-5110bba7c53a"
      },
      "execution_count": 107,
      "outputs": [
        {
          "output_type": "execute_result",
          "data": {
            "text/plain": [
              "0.0    25299\n",
              "1.0     4698\n",
              "Name: Credible_client, dtype: int64"
            ]
          },
          "metadata": {},
          "execution_count": 107
        }
      ]
    },
    {
      "cell_type": "markdown",
      "source": [
        "**Amount Bill Statement**\n",
        "\n",
        "Si tienen valores negativos podemos simplificalos a 0 ya que indica que no hay deuda"
      ],
      "metadata": {
        "id": "GHlH5ymMgnX1"
      }
    },
    {
      "cell_type": "code",
      "source": [
        "ndf1['Amount_Bill_01'].value_counts()"
      ],
      "metadata": {
        "colab": {
          "base_uri": "https://localhost:8080/"
        },
        "id": "pt4sFCMJgxAU",
        "outputId": "60ba5ab3-a98d-4db8-9b62-85d143a57392"
      },
      "execution_count": 108,
      "outputs": [
        {
          "output_type": "execute_result",
          "data": {
            "text/plain": [
              "0.0         2007\n",
              "390.0        243\n",
              "780.0         76\n",
              "326.0         72\n",
              "316.0         63\n",
              "            ... \n",
              "146034.0       1\n",
              "20817.0        1\n",
              "1351.0         1\n",
              "17068.0        1\n",
              "47929.0        1\n",
              "Name: Amount_Bill_01, Length: 22718, dtype: int64"
            ]
          },
          "metadata": {},
          "execution_count": 108
        }
      ]
    },
    {
      "cell_type": "code",
      "source": [
        "x = (ndf1.Amount_Bill_01 < 0)\n",
        "x"
      ],
      "metadata": {
        "colab": {
          "base_uri": "https://localhost:8080/"
        },
        "id": "rJh0vqdFg-wR",
        "outputId": "3009d1fa-dcb8-4130-a798-abada1cea77b"
      },
      "execution_count": 109,
      "outputs": [
        {
          "output_type": "execute_result",
          "data": {
            "text/plain": [
              "0        False\n",
              "1        False\n",
              "2        False\n",
              "3        False\n",
              "4        False\n",
              "         ...  \n",
              "29995    False\n",
              "29996    False\n",
              "29997    False\n",
              "29998     True\n",
              "29999    False\n",
              "Name: Amount_Bill_01, Length: 30000, dtype: bool"
            ]
          },
          "metadata": {},
          "execution_count": 109
        }
      ]
    },
    {
      "cell_type": "code",
      "source": [
        "to_clean_AmountBill01 = (ndf1.Amount_Bill_01 < 0)\n",
        "to_clean_AmountBill02 = (ndf1.Amount_Bill_02 < 0)\n",
        "to_clean_AmountBill03 = (ndf1.Amount_Bill_03 < 0)\n",
        "to_clean_AmountBill04 = (ndf1.Amount_Bill_04 < 0)\n",
        "to_clean_AmountBill05 = (ndf1.Amount_Bill_05 < 0)\n",
        "to_clean_AmountBill06 = (ndf1.Amount_Bill_06 < 0)"
      ],
      "metadata": {
        "id": "vD9M6tNlfezt"
      },
      "execution_count": 110,
      "outputs": []
    },
    {
      "cell_type": "code",
      "source": [
        "ndf1.loc[to_clean_AmountBill01, 'Amount_Bill_01'] = 0\n",
        "ndf1.loc[to_clean_AmountBill02, 'Amount_Bill_02'] = 0\n",
        "ndf1.loc[to_clean_AmountBill03, 'Amount_Bill_03'] = 0\n",
        "ndf1.loc[to_clean_AmountBill04, 'Amount_Bill_04'] = 0\n",
        "ndf1.loc[to_clean_AmountBill05, 'Amount_Bill_05'] = 0\n",
        "ndf1.loc[to_clean_AmountBill06, 'Amount_Bill_06'] = 0"
      ],
      "metadata": {
        "id": "55PDjPCGiFhf"
      },
      "execution_count": 111,
      "outputs": []
    },
    {
      "cell_type": "code",
      "source": [
        "x = (ndf1.Amount_Bill_01 < 0)\n",
        "x"
      ],
      "metadata": {
        "colab": {
          "base_uri": "https://localhost:8080/"
        },
        "id": "tQVTUN6wiYCs",
        "outputId": "4dd4a078-66e0-4379-e6e6-40f5fe3fb6b0"
      },
      "execution_count": 112,
      "outputs": [
        {
          "output_type": "execute_result",
          "data": {
            "text/plain": [
              "0        False\n",
              "1        False\n",
              "2        False\n",
              "3        False\n",
              "4        False\n",
              "         ...  \n",
              "29995    False\n",
              "29996    False\n",
              "29997    False\n",
              "29998    False\n",
              "29999    False\n",
              "Name: Amount_Bill_01, Length: 30000, dtype: bool"
            ]
          },
          "metadata": {},
          "execution_count": 112
        }
      ]
    },
    {
      "cell_type": "code",
      "source": [
        "ndf1.columns"
      ],
      "metadata": {
        "colab": {
          "base_uri": "https://localhost:8080/"
        },
        "id": "iBetH3mWiYdn",
        "outputId": "729e1172-9d96-45f9-f866-a209e0478bce"
      },
      "execution_count": 113,
      "outputs": [
        {
          "output_type": "execute_result",
          "data": {
            "text/plain": [
              "Index(['Amount_of_given_credit', 'Gender', 'Education', 'Marital_Status',\n",
              "       'Age', 'Pay01', 'Pay02', 'Pay03', 'Pay04', 'Pay05', 'Pay06',\n",
              "       'Amount_Bill_01', 'Amount_Bill_02', 'Amount_Bill_03', 'Amount_Bill_04',\n",
              "       'Amount_Bill_05', 'Amount_Bill_06', 'Amount_Prev_Pay_01',\n",
              "       'Amount_Prev_Pay_02', 'Amount_Prev_Pay_03', 'Amount_Prev_Pay_04',\n",
              "       'Amount_Prev_Pay_05', 'Amount_Prev_Pay_06', 'Credible_client'],\n",
              "      dtype='object')"
            ]
          },
          "metadata": {},
          "execution_count": 113
        }
      ]
    },
    {
      "cell_type": "markdown",
      "source": [
        "## Limpieza da datos nulos"
      ],
      "metadata": {
        "id": "W65uJmKEyrD7"
      }
    },
    {
      "cell_type": "code",
      "source": [
        "ndf1.isnull().sum()"
      ],
      "metadata": {
        "colab": {
          "base_uri": "https://localhost:8080/"
        },
        "id": "7tStjyoPi1aY",
        "outputId": "ab131f7a-0b4e-4255-f5ad-013bb2104195"
      },
      "execution_count": 114,
      "outputs": [
        {
          "output_type": "execute_result",
          "data": {
            "text/plain": [
              "Amount_of_given_credit     0\n",
              "Gender                     1\n",
              "Education                  2\n",
              "Marital_Status             2\n",
              "Age                        5\n",
              "Pay01                      3\n",
              "Pay02                      5\n",
              "Pay03                      7\n",
              "Pay04                      9\n",
              "Pay05                     16\n",
              "Pay06                     14\n",
              "Amount_Bill_01            11\n",
              "Amount_Bill_02            11\n",
              "Amount_Bill_03            13\n",
              "Amount_Bill_04            15\n",
              "Amount_Bill_05            17\n",
              "Amount_Bill_06            10\n",
              "Amount_Prev_Pay_01         8\n",
              "Amount_Prev_Pay_02         9\n",
              "Amount_Prev_Pay_03         8\n",
              "Amount_Prev_Pay_04        11\n",
              "Amount_Prev_Pay_05        11\n",
              "Amount_Prev_Pay_06         5\n",
              "Credible_client            3\n",
              "dtype: int64"
            ]
          },
          "metadata": {},
          "execution_count": 114
        }
      ]
    },
    {
      "cell_type": "code",
      "source": [
        "ndf2 = ndf1.copy()"
      ],
      "metadata": {
        "id": "PGBQnZUhkmP0"
      },
      "execution_count": 115,
      "outputs": []
    },
    {
      "cell_type": "code",
      "source": [
        "ndf2"
      ],
      "metadata": {
        "colab": {
          "base_uri": "https://localhost:8080/",
          "height": 488
        },
        "id": "2SNBZ1gLopML",
        "outputId": "50f1a786-3ba5-43e3-fca1-947d1ac28521"
      },
      "execution_count": 116,
      "outputs": [
        {
          "output_type": "execute_result",
          "data": {
            "text/plain": [
              "       Amount_of_given_credit  Gender  Education  Marital_Status   Age  Pay01  \\\n",
              "0                       20000     2.0        2.0             1.0  24.0    2.0   \n",
              "1                      120000     2.0        2.0             2.0  26.0    0.0   \n",
              "2                       90000     2.0        2.0             2.0  34.0    0.0   \n",
              "3                       50000     2.0        2.0             1.0  37.0    0.0   \n",
              "4                       50000     1.0        2.0             1.0  57.0    0.0   \n",
              "...                       ...     ...        ...             ...   ...    ...   \n",
              "29995                  220000     1.0        3.0             1.0  39.0    0.0   \n",
              "29996                  150000     1.0        3.0             2.0  43.0    0.0   \n",
              "29997                   30000     1.0        2.0             2.0  37.0    4.0   \n",
              "29998                   80000     1.0        3.0             1.0  41.0    1.0   \n",
              "29999                   50000     1.0        2.0             1.0  46.0    0.0   \n",
              "\n",
              "       Pay02  Pay03  Pay04  Pay05  ...  Amount_Bill_04  Amount_Bill_05  \\\n",
              "0        2.0    0.0    0.0    0.0  ...             0.0             0.0   \n",
              "1        2.0    0.0    0.0    0.0  ...          3272.0          3455.0   \n",
              "2        0.0    0.0    0.0    0.0  ...         14331.0         14948.0   \n",
              "3        0.0    0.0    0.0    0.0  ...         28314.0         28959.0   \n",
              "4        0.0    0.0    0.0    0.0  ...         20940.0         19146.0   \n",
              "...      ...    ...    ...    ...  ...             ...             ...   \n",
              "29995    0.0    0.0    0.0    0.0  ...         88004.0         31237.0   \n",
              "29996    0.0    0.0    0.0    0.0  ...          8979.0          5190.0   \n",
              "29997    3.0    2.0    0.0    0.0  ...         20878.0         20582.0   \n",
              "29998    0.0    0.0    0.0    0.0  ...         52774.0         11855.0   \n",
              "29999    0.0    0.0    0.0    0.0  ...         36535.0         32428.0   \n",
              "\n",
              "       Amount_Bill_06  Amount_Prev_Pay_01  Amount_Prev_Pay_02  \\\n",
              "0                 0.0                 0.0               689.0   \n",
              "1              3261.0                 0.0              1000.0   \n",
              "2             15549.0              1518.0              1500.0   \n",
              "3             29547.0              2000.0              2019.0   \n",
              "4             19131.0              2000.0             36681.0   \n",
              "...               ...                 ...                 ...   \n",
              "29995         15980.0              8500.0             20000.0   \n",
              "29996             0.0              1837.0              3526.0   \n",
              "29997         19357.0                 0.0                 0.0   \n",
              "29998         48944.0             85900.0              3409.0   \n",
              "29999         15313.0              2078.0              1800.0   \n",
              "\n",
              "       Amount_Prev_Pay_03  Amount_Prev_Pay_04  Amount_Prev_Pay_05  \\\n",
              "0                     0.0                 0.0                 0.0   \n",
              "1                  1000.0              1000.0                 0.0   \n",
              "2                  1000.0              1000.0              1000.0   \n",
              "3                  1200.0              1100.0              1069.0   \n",
              "4                 10000.0              9000.0               689.0   \n",
              "...                   ...                 ...                 ...   \n",
              "29995              5003.0              3047.0              5000.0   \n",
              "29996              8998.0               129.0                 0.0   \n",
              "29997             22000.0              4200.0              2000.0   \n",
              "29998              1178.0              1926.0             52964.0   \n",
              "29999              1430.0              1000.0              1000.0   \n",
              "\n",
              "       Amount_Prev_Pay_06  Credible_client  \n",
              "0                     0.0              1.0  \n",
              "1                  2000.0              1.0  \n",
              "2                  5000.0              0.0  \n",
              "3                  1000.0              0.0  \n",
              "4                   679.0              0.0  \n",
              "...                   ...              ...  \n",
              "29995              1000.0              0.0  \n",
              "29996                 0.0              0.0  \n",
              "29997              3100.0              1.0  \n",
              "29998              1804.0              1.0  \n",
              "29999              1000.0              0.0  \n",
              "\n",
              "[30000 rows x 24 columns]"
            ],
            "text/html": [
              "\n",
              "  <div id=\"df-79771524-aaeb-46d0-9086-60c407b9acbf\">\n",
              "    <div class=\"colab-df-container\">\n",
              "      <div>\n",
              "<style scoped>\n",
              "    .dataframe tbody tr th:only-of-type {\n",
              "        vertical-align: middle;\n",
              "    }\n",
              "\n",
              "    .dataframe tbody tr th {\n",
              "        vertical-align: top;\n",
              "    }\n",
              "\n",
              "    .dataframe thead th {\n",
              "        text-align: right;\n",
              "    }\n",
              "</style>\n",
              "<table border=\"1\" class=\"dataframe\">\n",
              "  <thead>\n",
              "    <tr style=\"text-align: right;\">\n",
              "      <th></th>\n",
              "      <th>Amount_of_given_credit</th>\n",
              "      <th>Gender</th>\n",
              "      <th>Education</th>\n",
              "      <th>Marital_Status</th>\n",
              "      <th>Age</th>\n",
              "      <th>Pay01</th>\n",
              "      <th>Pay02</th>\n",
              "      <th>Pay03</th>\n",
              "      <th>Pay04</th>\n",
              "      <th>Pay05</th>\n",
              "      <th>...</th>\n",
              "      <th>Amount_Bill_04</th>\n",
              "      <th>Amount_Bill_05</th>\n",
              "      <th>Amount_Bill_06</th>\n",
              "      <th>Amount_Prev_Pay_01</th>\n",
              "      <th>Amount_Prev_Pay_02</th>\n",
              "      <th>Amount_Prev_Pay_03</th>\n",
              "      <th>Amount_Prev_Pay_04</th>\n",
              "      <th>Amount_Prev_Pay_05</th>\n",
              "      <th>Amount_Prev_Pay_06</th>\n",
              "      <th>Credible_client</th>\n",
              "    </tr>\n",
              "  </thead>\n",
              "  <tbody>\n",
              "    <tr>\n",
              "      <th>0</th>\n",
              "      <td>20000</td>\n",
              "      <td>2.0</td>\n",
              "      <td>2.0</td>\n",
              "      <td>1.0</td>\n",
              "      <td>24.0</td>\n",
              "      <td>2.0</td>\n",
              "      <td>2.0</td>\n",
              "      <td>0.0</td>\n",
              "      <td>0.0</td>\n",
              "      <td>0.0</td>\n",
              "      <td>...</td>\n",
              "      <td>0.0</td>\n",
              "      <td>0.0</td>\n",
              "      <td>0.0</td>\n",
              "      <td>0.0</td>\n",
              "      <td>689.0</td>\n",
              "      <td>0.0</td>\n",
              "      <td>0.0</td>\n",
              "      <td>0.0</td>\n",
              "      <td>0.0</td>\n",
              "      <td>1.0</td>\n",
              "    </tr>\n",
              "    <tr>\n",
              "      <th>1</th>\n",
              "      <td>120000</td>\n",
              "      <td>2.0</td>\n",
              "      <td>2.0</td>\n",
              "      <td>2.0</td>\n",
              "      <td>26.0</td>\n",
              "      <td>0.0</td>\n",
              "      <td>2.0</td>\n",
              "      <td>0.0</td>\n",
              "      <td>0.0</td>\n",
              "      <td>0.0</td>\n",
              "      <td>...</td>\n",
              "      <td>3272.0</td>\n",
              "      <td>3455.0</td>\n",
              "      <td>3261.0</td>\n",
              "      <td>0.0</td>\n",
              "      <td>1000.0</td>\n",
              "      <td>1000.0</td>\n",
              "      <td>1000.0</td>\n",
              "      <td>0.0</td>\n",
              "      <td>2000.0</td>\n",
              "      <td>1.0</td>\n",
              "    </tr>\n",
              "    <tr>\n",
              "      <th>2</th>\n",
              "      <td>90000</td>\n",
              "      <td>2.0</td>\n",
              "      <td>2.0</td>\n",
              "      <td>2.0</td>\n",
              "      <td>34.0</td>\n",
              "      <td>0.0</td>\n",
              "      <td>0.0</td>\n",
              "      <td>0.0</td>\n",
              "      <td>0.0</td>\n",
              "      <td>0.0</td>\n",
              "      <td>...</td>\n",
              "      <td>14331.0</td>\n",
              "      <td>14948.0</td>\n",
              "      <td>15549.0</td>\n",
              "      <td>1518.0</td>\n",
              "      <td>1500.0</td>\n",
              "      <td>1000.0</td>\n",
              "      <td>1000.0</td>\n",
              "      <td>1000.0</td>\n",
              "      <td>5000.0</td>\n",
              "      <td>0.0</td>\n",
              "    </tr>\n",
              "    <tr>\n",
              "      <th>3</th>\n",
              "      <td>50000</td>\n",
              "      <td>2.0</td>\n",
              "      <td>2.0</td>\n",
              "      <td>1.0</td>\n",
              "      <td>37.0</td>\n",
              "      <td>0.0</td>\n",
              "      <td>0.0</td>\n",
              "      <td>0.0</td>\n",
              "      <td>0.0</td>\n",
              "      <td>0.0</td>\n",
              "      <td>...</td>\n",
              "      <td>28314.0</td>\n",
              "      <td>28959.0</td>\n",
              "      <td>29547.0</td>\n",
              "      <td>2000.0</td>\n",
              "      <td>2019.0</td>\n",
              "      <td>1200.0</td>\n",
              "      <td>1100.0</td>\n",
              "      <td>1069.0</td>\n",
              "      <td>1000.0</td>\n",
              "      <td>0.0</td>\n",
              "    </tr>\n",
              "    <tr>\n",
              "      <th>4</th>\n",
              "      <td>50000</td>\n",
              "      <td>1.0</td>\n",
              "      <td>2.0</td>\n",
              "      <td>1.0</td>\n",
              "      <td>57.0</td>\n",
              "      <td>0.0</td>\n",
              "      <td>0.0</td>\n",
              "      <td>0.0</td>\n",
              "      <td>0.0</td>\n",
              "      <td>0.0</td>\n",
              "      <td>...</td>\n",
              "      <td>20940.0</td>\n",
              "      <td>19146.0</td>\n",
              "      <td>19131.0</td>\n",
              "      <td>2000.0</td>\n",
              "      <td>36681.0</td>\n",
              "      <td>10000.0</td>\n",
              "      <td>9000.0</td>\n",
              "      <td>689.0</td>\n",
              "      <td>679.0</td>\n",
              "      <td>0.0</td>\n",
              "    </tr>\n",
              "    <tr>\n",
              "      <th>...</th>\n",
              "      <td>...</td>\n",
              "      <td>...</td>\n",
              "      <td>...</td>\n",
              "      <td>...</td>\n",
              "      <td>...</td>\n",
              "      <td>...</td>\n",
              "      <td>...</td>\n",
              "      <td>...</td>\n",
              "      <td>...</td>\n",
              "      <td>...</td>\n",
              "      <td>...</td>\n",
              "      <td>...</td>\n",
              "      <td>...</td>\n",
              "      <td>...</td>\n",
              "      <td>...</td>\n",
              "      <td>...</td>\n",
              "      <td>...</td>\n",
              "      <td>...</td>\n",
              "      <td>...</td>\n",
              "      <td>...</td>\n",
              "      <td>...</td>\n",
              "    </tr>\n",
              "    <tr>\n",
              "      <th>29995</th>\n",
              "      <td>220000</td>\n",
              "      <td>1.0</td>\n",
              "      <td>3.0</td>\n",
              "      <td>1.0</td>\n",
              "      <td>39.0</td>\n",
              "      <td>0.0</td>\n",
              "      <td>0.0</td>\n",
              "      <td>0.0</td>\n",
              "      <td>0.0</td>\n",
              "      <td>0.0</td>\n",
              "      <td>...</td>\n",
              "      <td>88004.0</td>\n",
              "      <td>31237.0</td>\n",
              "      <td>15980.0</td>\n",
              "      <td>8500.0</td>\n",
              "      <td>20000.0</td>\n",
              "      <td>5003.0</td>\n",
              "      <td>3047.0</td>\n",
              "      <td>5000.0</td>\n",
              "      <td>1000.0</td>\n",
              "      <td>0.0</td>\n",
              "    </tr>\n",
              "    <tr>\n",
              "      <th>29996</th>\n",
              "      <td>150000</td>\n",
              "      <td>1.0</td>\n",
              "      <td>3.0</td>\n",
              "      <td>2.0</td>\n",
              "      <td>43.0</td>\n",
              "      <td>0.0</td>\n",
              "      <td>0.0</td>\n",
              "      <td>0.0</td>\n",
              "      <td>0.0</td>\n",
              "      <td>0.0</td>\n",
              "      <td>...</td>\n",
              "      <td>8979.0</td>\n",
              "      <td>5190.0</td>\n",
              "      <td>0.0</td>\n",
              "      <td>1837.0</td>\n",
              "      <td>3526.0</td>\n",
              "      <td>8998.0</td>\n",
              "      <td>129.0</td>\n",
              "      <td>0.0</td>\n",
              "      <td>0.0</td>\n",
              "      <td>0.0</td>\n",
              "    </tr>\n",
              "    <tr>\n",
              "      <th>29997</th>\n",
              "      <td>30000</td>\n",
              "      <td>1.0</td>\n",
              "      <td>2.0</td>\n",
              "      <td>2.0</td>\n",
              "      <td>37.0</td>\n",
              "      <td>4.0</td>\n",
              "      <td>3.0</td>\n",
              "      <td>2.0</td>\n",
              "      <td>0.0</td>\n",
              "      <td>0.0</td>\n",
              "      <td>...</td>\n",
              "      <td>20878.0</td>\n",
              "      <td>20582.0</td>\n",
              "      <td>19357.0</td>\n",
              "      <td>0.0</td>\n",
              "      <td>0.0</td>\n",
              "      <td>22000.0</td>\n",
              "      <td>4200.0</td>\n",
              "      <td>2000.0</td>\n",
              "      <td>3100.0</td>\n",
              "      <td>1.0</td>\n",
              "    </tr>\n",
              "    <tr>\n",
              "      <th>29998</th>\n",
              "      <td>80000</td>\n",
              "      <td>1.0</td>\n",
              "      <td>3.0</td>\n",
              "      <td>1.0</td>\n",
              "      <td>41.0</td>\n",
              "      <td>1.0</td>\n",
              "      <td>0.0</td>\n",
              "      <td>0.0</td>\n",
              "      <td>0.0</td>\n",
              "      <td>0.0</td>\n",
              "      <td>...</td>\n",
              "      <td>52774.0</td>\n",
              "      <td>11855.0</td>\n",
              "      <td>48944.0</td>\n",
              "      <td>85900.0</td>\n",
              "      <td>3409.0</td>\n",
              "      <td>1178.0</td>\n",
              "      <td>1926.0</td>\n",
              "      <td>52964.0</td>\n",
              "      <td>1804.0</td>\n",
              "      <td>1.0</td>\n",
              "    </tr>\n",
              "    <tr>\n",
              "      <th>29999</th>\n",
              "      <td>50000</td>\n",
              "      <td>1.0</td>\n",
              "      <td>2.0</td>\n",
              "      <td>1.0</td>\n",
              "      <td>46.0</td>\n",
              "      <td>0.0</td>\n",
              "      <td>0.0</td>\n",
              "      <td>0.0</td>\n",
              "      <td>0.0</td>\n",
              "      <td>0.0</td>\n",
              "      <td>...</td>\n",
              "      <td>36535.0</td>\n",
              "      <td>32428.0</td>\n",
              "      <td>15313.0</td>\n",
              "      <td>2078.0</td>\n",
              "      <td>1800.0</td>\n",
              "      <td>1430.0</td>\n",
              "      <td>1000.0</td>\n",
              "      <td>1000.0</td>\n",
              "      <td>1000.0</td>\n",
              "      <td>0.0</td>\n",
              "    </tr>\n",
              "  </tbody>\n",
              "</table>\n",
              "<p>30000 rows × 24 columns</p>\n",
              "</div>\n",
              "      <button class=\"colab-df-convert\" onclick=\"convertToInteractive('df-79771524-aaeb-46d0-9086-60c407b9acbf')\"\n",
              "              title=\"Convert this dataframe to an interactive table.\"\n",
              "              style=\"display:none;\">\n",
              "        \n",
              "  <svg xmlns=\"http://www.w3.org/2000/svg\" height=\"24px\"viewBox=\"0 0 24 24\"\n",
              "       width=\"24px\">\n",
              "    <path d=\"M0 0h24v24H0V0z\" fill=\"none\"/>\n",
              "    <path d=\"M18.56 5.44l.94 2.06.94-2.06 2.06-.94-2.06-.94-.94-2.06-.94 2.06-2.06.94zm-11 1L8.5 8.5l.94-2.06 2.06-.94-2.06-.94L8.5 2.5l-.94 2.06-2.06.94zm10 10l.94 2.06.94-2.06 2.06-.94-2.06-.94-.94-2.06-.94 2.06-2.06.94z\"/><path d=\"M17.41 7.96l-1.37-1.37c-.4-.4-.92-.59-1.43-.59-.52 0-1.04.2-1.43.59L10.3 9.45l-7.72 7.72c-.78.78-.78 2.05 0 2.83L4 21.41c.39.39.9.59 1.41.59.51 0 1.02-.2 1.41-.59l7.78-7.78 2.81-2.81c.8-.78.8-2.07 0-2.86zM5.41 20L4 18.59l7.72-7.72 1.47 1.35L5.41 20z\"/>\n",
              "  </svg>\n",
              "      </button>\n",
              "      \n",
              "  <style>\n",
              "    .colab-df-container {\n",
              "      display:flex;\n",
              "      flex-wrap:wrap;\n",
              "      gap: 12px;\n",
              "    }\n",
              "\n",
              "    .colab-df-convert {\n",
              "      background-color: #E8F0FE;\n",
              "      border: none;\n",
              "      border-radius: 50%;\n",
              "      cursor: pointer;\n",
              "      display: none;\n",
              "      fill: #1967D2;\n",
              "      height: 32px;\n",
              "      padding: 0 0 0 0;\n",
              "      width: 32px;\n",
              "    }\n",
              "\n",
              "    .colab-df-convert:hover {\n",
              "      background-color: #E2EBFA;\n",
              "      box-shadow: 0px 1px 2px rgba(60, 64, 67, 0.3), 0px 1px 3px 1px rgba(60, 64, 67, 0.15);\n",
              "      fill: #174EA6;\n",
              "    }\n",
              "\n",
              "    [theme=dark] .colab-df-convert {\n",
              "      background-color: #3B4455;\n",
              "      fill: #D2E3FC;\n",
              "    }\n",
              "\n",
              "    [theme=dark] .colab-df-convert:hover {\n",
              "      background-color: #434B5C;\n",
              "      box-shadow: 0px 1px 3px 1px rgba(0, 0, 0, 0.15);\n",
              "      filter: drop-shadow(0px 1px 2px rgba(0, 0, 0, 0.3));\n",
              "      fill: #FFFFFF;\n",
              "    }\n",
              "  </style>\n",
              "\n",
              "      <script>\n",
              "        const buttonEl =\n",
              "          document.querySelector('#df-79771524-aaeb-46d0-9086-60c407b9acbf button.colab-df-convert');\n",
              "        buttonEl.style.display =\n",
              "          google.colab.kernel.accessAllowed ? 'block' : 'none';\n",
              "\n",
              "        async function convertToInteractive(key) {\n",
              "          const element = document.querySelector('#df-79771524-aaeb-46d0-9086-60c407b9acbf');\n",
              "          const dataTable =\n",
              "            await google.colab.kernel.invokeFunction('convertToInteractive',\n",
              "                                                     [key], {});\n",
              "          if (!dataTable) return;\n",
              "\n",
              "          const docLinkHtml = 'Like what you see? Visit the ' +\n",
              "            '<a target=\"_blank\" href=https://colab.research.google.com/notebooks/data_table.ipynb>data table notebook</a>'\n",
              "            + ' to learn more about interactive tables.';\n",
              "          element.innerHTML = '';\n",
              "          dataTable['output_type'] = 'display_data';\n",
              "          await google.colab.output.renderOutput(dataTable, element);\n",
              "          const docLink = document.createElement('div');\n",
              "          docLink.innerHTML = docLinkHtml;\n",
              "          element.appendChild(docLink);\n",
              "        }\n",
              "      </script>\n",
              "    </div>\n",
              "  </div>\n",
              "  "
            ]
          },
          "metadata": {},
          "execution_count": 116
        }
      ]
    },
    {
      "cell_type": "code",
      "source": [
        "ndf2.describe()"
      ],
      "metadata": {
        "colab": {
          "base_uri": "https://localhost:8080/",
          "height": 394
        },
        "id": "03uLwb8uw6nM",
        "outputId": "3f0dec62-2904-4950-f293-51d86ee53a89"
      },
      "execution_count": 122,
      "outputs": [
        {
          "output_type": "execute_result",
          "data": {
            "text/plain": [
              "       Amount_of_given_credit        Gender     Education  Marital_Status  \\\n",
              "count            30000.000000  29999.000000  29998.000000    29998.000000   \n",
              "mean            167484.322667      1.603753      1.842189        1.557304   \n",
              "std             129747.661567      0.489125      0.744459        0.521402   \n",
              "min              10000.000000      1.000000      1.000000        1.000000   \n",
              "25%              50000.000000      1.000000      1.000000        1.000000   \n",
              "50%             140000.000000      2.000000      2.000000        2.000000   \n",
              "75%             240000.000000      2.000000      2.000000        2.000000   \n",
              "max            1000000.000000      2.000000      4.000000        3.000000   \n",
              "\n",
              "                Age         Pay01         Pay02         Pay03         Pay04  \\\n",
              "count  29995.000000  29997.000000  29995.000000  29993.000000  29991.000000   \n",
              "mean      35.484214      0.356802      0.320087      0.303871      0.258711   \n",
              "std        9.218024      0.760624      0.801784      0.789420      0.761084   \n",
              "min       21.000000      0.000000      0.000000      0.000000      0.000000   \n",
              "25%       28.000000      0.000000      0.000000      0.000000      0.000000   \n",
              "50%       34.000000      0.000000      0.000000      0.000000      0.000000   \n",
              "75%       41.000000      0.000000      0.000000      0.000000      0.000000   \n",
              "max       79.000000      8.000000      8.000000      8.000000      8.000000   \n",
              "\n",
              "              Pay05  ...  Amount_Bill_04  Amount_Bill_05  Amount_Bill_06  \\\n",
              "count  29984.000000  ...    29985.000000     29983.00000    29990.000000   \n",
              "mean       0.221485  ...    43312.373653     40360.20535    38951.667623   \n",
              "std        0.717748  ...    64307.593645     60779.43037    59453.142119   \n",
              "min        0.000000  ...        0.000000         0.00000        0.000000   \n",
              "25%        0.000000  ...     2329.000000      1763.50000     1256.250000   \n",
              "50%        0.000000  ...    19052.000000     18107.00000    17081.000000   \n",
              "75%        0.000000  ...    54560.000000     50213.00000    49208.250000   \n",
              "max        8.000000  ...   891586.000000    927171.00000   961664.000000   \n",
              "\n",
              "       Amount_Prev_Pay_01  Amount_Prev_Pay_02  Amount_Prev_Pay_03  \\\n",
              "count        29992.000000        2.999100e+04        29992.000000   \n",
              "mean          5662.945886        5.922489e+03         5225.623400   \n",
              "std          16564.165089        2.304418e+04        17608.422625   \n",
              "min              0.000000        0.000000e+00            0.000000   \n",
              "25%           1000.000000        8.355000e+02          390.000000   \n",
              "50%           2100.000000        2.009000e+03         1800.000000   \n",
              "75%           5006.000000        5.000000e+03         4505.500000   \n",
              "max         873552.000000        1.684259e+06       896040.000000   \n",
              "\n",
              "       Amount_Prev_Pay_04  Amount_Prev_Pay_05  Amount_Prev_Pay_06  \\\n",
              "count        29989.000000        29989.000000        29995.000000   \n",
              "mean          4827.252526         4800.297209         5216.259977   \n",
              "std          15668.751975        15280.842069        17778.848359   \n",
              "min              0.000000            0.000000            0.000000   \n",
              "25%            296.000000          251.000000          118.000000   \n",
              "50%           1500.000000         1500.000000         1500.000000   \n",
              "75%           4014.000000         4033.000000         4000.000000   \n",
              "max         621000.000000       426529.000000       528666.000000   \n",
              "\n",
              "       Credible_client  \n",
              "count     29997.000000  \n",
              "mean          0.156616  \n",
              "std           0.363444  \n",
              "min           0.000000  \n",
              "25%           0.000000  \n",
              "50%           0.000000  \n",
              "75%           0.000000  \n",
              "max           1.000000  \n",
              "\n",
              "[8 rows x 24 columns]"
            ],
            "text/html": [
              "\n",
              "  <div id=\"df-85296a8b-ba63-487c-b596-745ce3f1e175\">\n",
              "    <div class=\"colab-df-container\">\n",
              "      <div>\n",
              "<style scoped>\n",
              "    .dataframe tbody tr th:only-of-type {\n",
              "        vertical-align: middle;\n",
              "    }\n",
              "\n",
              "    .dataframe tbody tr th {\n",
              "        vertical-align: top;\n",
              "    }\n",
              "\n",
              "    .dataframe thead th {\n",
              "        text-align: right;\n",
              "    }\n",
              "</style>\n",
              "<table border=\"1\" class=\"dataframe\">\n",
              "  <thead>\n",
              "    <tr style=\"text-align: right;\">\n",
              "      <th></th>\n",
              "      <th>Amount_of_given_credit</th>\n",
              "      <th>Gender</th>\n",
              "      <th>Education</th>\n",
              "      <th>Marital_Status</th>\n",
              "      <th>Age</th>\n",
              "      <th>Pay01</th>\n",
              "      <th>Pay02</th>\n",
              "      <th>Pay03</th>\n",
              "      <th>Pay04</th>\n",
              "      <th>Pay05</th>\n",
              "      <th>...</th>\n",
              "      <th>Amount_Bill_04</th>\n",
              "      <th>Amount_Bill_05</th>\n",
              "      <th>Amount_Bill_06</th>\n",
              "      <th>Amount_Prev_Pay_01</th>\n",
              "      <th>Amount_Prev_Pay_02</th>\n",
              "      <th>Amount_Prev_Pay_03</th>\n",
              "      <th>Amount_Prev_Pay_04</th>\n",
              "      <th>Amount_Prev_Pay_05</th>\n",
              "      <th>Amount_Prev_Pay_06</th>\n",
              "      <th>Credible_client</th>\n",
              "    </tr>\n",
              "  </thead>\n",
              "  <tbody>\n",
              "    <tr>\n",
              "      <th>count</th>\n",
              "      <td>30000.000000</td>\n",
              "      <td>29999.000000</td>\n",
              "      <td>29998.000000</td>\n",
              "      <td>29998.000000</td>\n",
              "      <td>29995.000000</td>\n",
              "      <td>29997.000000</td>\n",
              "      <td>29995.000000</td>\n",
              "      <td>29993.000000</td>\n",
              "      <td>29991.000000</td>\n",
              "      <td>29984.000000</td>\n",
              "      <td>...</td>\n",
              "      <td>29985.000000</td>\n",
              "      <td>29983.00000</td>\n",
              "      <td>29990.000000</td>\n",
              "      <td>29992.000000</td>\n",
              "      <td>2.999100e+04</td>\n",
              "      <td>29992.000000</td>\n",
              "      <td>29989.000000</td>\n",
              "      <td>29989.000000</td>\n",
              "      <td>29995.000000</td>\n",
              "      <td>29997.000000</td>\n",
              "    </tr>\n",
              "    <tr>\n",
              "      <th>mean</th>\n",
              "      <td>167484.322667</td>\n",
              "      <td>1.603753</td>\n",
              "      <td>1.842189</td>\n",
              "      <td>1.557304</td>\n",
              "      <td>35.484214</td>\n",
              "      <td>0.356802</td>\n",
              "      <td>0.320087</td>\n",
              "      <td>0.303871</td>\n",
              "      <td>0.258711</td>\n",
              "      <td>0.221485</td>\n",
              "      <td>...</td>\n",
              "      <td>43312.373653</td>\n",
              "      <td>40360.20535</td>\n",
              "      <td>38951.667623</td>\n",
              "      <td>5662.945886</td>\n",
              "      <td>5.922489e+03</td>\n",
              "      <td>5225.623400</td>\n",
              "      <td>4827.252526</td>\n",
              "      <td>4800.297209</td>\n",
              "      <td>5216.259977</td>\n",
              "      <td>0.156616</td>\n",
              "    </tr>\n",
              "    <tr>\n",
              "      <th>std</th>\n",
              "      <td>129747.661567</td>\n",
              "      <td>0.489125</td>\n",
              "      <td>0.744459</td>\n",
              "      <td>0.521402</td>\n",
              "      <td>9.218024</td>\n",
              "      <td>0.760624</td>\n",
              "      <td>0.801784</td>\n",
              "      <td>0.789420</td>\n",
              "      <td>0.761084</td>\n",
              "      <td>0.717748</td>\n",
              "      <td>...</td>\n",
              "      <td>64307.593645</td>\n",
              "      <td>60779.43037</td>\n",
              "      <td>59453.142119</td>\n",
              "      <td>16564.165089</td>\n",
              "      <td>2.304418e+04</td>\n",
              "      <td>17608.422625</td>\n",
              "      <td>15668.751975</td>\n",
              "      <td>15280.842069</td>\n",
              "      <td>17778.848359</td>\n",
              "      <td>0.363444</td>\n",
              "    </tr>\n",
              "    <tr>\n",
              "      <th>min</th>\n",
              "      <td>10000.000000</td>\n",
              "      <td>1.000000</td>\n",
              "      <td>1.000000</td>\n",
              "      <td>1.000000</td>\n",
              "      <td>21.000000</td>\n",
              "      <td>0.000000</td>\n",
              "      <td>0.000000</td>\n",
              "      <td>0.000000</td>\n",
              "      <td>0.000000</td>\n",
              "      <td>0.000000</td>\n",
              "      <td>...</td>\n",
              "      <td>0.000000</td>\n",
              "      <td>0.00000</td>\n",
              "      <td>0.000000</td>\n",
              "      <td>0.000000</td>\n",
              "      <td>0.000000e+00</td>\n",
              "      <td>0.000000</td>\n",
              "      <td>0.000000</td>\n",
              "      <td>0.000000</td>\n",
              "      <td>0.000000</td>\n",
              "      <td>0.000000</td>\n",
              "    </tr>\n",
              "    <tr>\n",
              "      <th>25%</th>\n",
              "      <td>50000.000000</td>\n",
              "      <td>1.000000</td>\n",
              "      <td>1.000000</td>\n",
              "      <td>1.000000</td>\n",
              "      <td>28.000000</td>\n",
              "      <td>0.000000</td>\n",
              "      <td>0.000000</td>\n",
              "      <td>0.000000</td>\n",
              "      <td>0.000000</td>\n",
              "      <td>0.000000</td>\n",
              "      <td>...</td>\n",
              "      <td>2329.000000</td>\n",
              "      <td>1763.50000</td>\n",
              "      <td>1256.250000</td>\n",
              "      <td>1000.000000</td>\n",
              "      <td>8.355000e+02</td>\n",
              "      <td>390.000000</td>\n",
              "      <td>296.000000</td>\n",
              "      <td>251.000000</td>\n",
              "      <td>118.000000</td>\n",
              "      <td>0.000000</td>\n",
              "    </tr>\n",
              "    <tr>\n",
              "      <th>50%</th>\n",
              "      <td>140000.000000</td>\n",
              "      <td>2.000000</td>\n",
              "      <td>2.000000</td>\n",
              "      <td>2.000000</td>\n",
              "      <td>34.000000</td>\n",
              "      <td>0.000000</td>\n",
              "      <td>0.000000</td>\n",
              "      <td>0.000000</td>\n",
              "      <td>0.000000</td>\n",
              "      <td>0.000000</td>\n",
              "      <td>...</td>\n",
              "      <td>19052.000000</td>\n",
              "      <td>18107.00000</td>\n",
              "      <td>17081.000000</td>\n",
              "      <td>2100.000000</td>\n",
              "      <td>2.009000e+03</td>\n",
              "      <td>1800.000000</td>\n",
              "      <td>1500.000000</td>\n",
              "      <td>1500.000000</td>\n",
              "      <td>1500.000000</td>\n",
              "      <td>0.000000</td>\n",
              "    </tr>\n",
              "    <tr>\n",
              "      <th>75%</th>\n",
              "      <td>240000.000000</td>\n",
              "      <td>2.000000</td>\n",
              "      <td>2.000000</td>\n",
              "      <td>2.000000</td>\n",
              "      <td>41.000000</td>\n",
              "      <td>0.000000</td>\n",
              "      <td>0.000000</td>\n",
              "      <td>0.000000</td>\n",
              "      <td>0.000000</td>\n",
              "      <td>0.000000</td>\n",
              "      <td>...</td>\n",
              "      <td>54560.000000</td>\n",
              "      <td>50213.00000</td>\n",
              "      <td>49208.250000</td>\n",
              "      <td>5006.000000</td>\n",
              "      <td>5.000000e+03</td>\n",
              "      <td>4505.500000</td>\n",
              "      <td>4014.000000</td>\n",
              "      <td>4033.000000</td>\n",
              "      <td>4000.000000</td>\n",
              "      <td>0.000000</td>\n",
              "    </tr>\n",
              "    <tr>\n",
              "      <th>max</th>\n",
              "      <td>1000000.000000</td>\n",
              "      <td>2.000000</td>\n",
              "      <td>4.000000</td>\n",
              "      <td>3.000000</td>\n",
              "      <td>79.000000</td>\n",
              "      <td>8.000000</td>\n",
              "      <td>8.000000</td>\n",
              "      <td>8.000000</td>\n",
              "      <td>8.000000</td>\n",
              "      <td>8.000000</td>\n",
              "      <td>...</td>\n",
              "      <td>891586.000000</td>\n",
              "      <td>927171.00000</td>\n",
              "      <td>961664.000000</td>\n",
              "      <td>873552.000000</td>\n",
              "      <td>1.684259e+06</td>\n",
              "      <td>896040.000000</td>\n",
              "      <td>621000.000000</td>\n",
              "      <td>426529.000000</td>\n",
              "      <td>528666.000000</td>\n",
              "      <td>1.000000</td>\n",
              "    </tr>\n",
              "  </tbody>\n",
              "</table>\n",
              "<p>8 rows × 24 columns</p>\n",
              "</div>\n",
              "      <button class=\"colab-df-convert\" onclick=\"convertToInteractive('df-85296a8b-ba63-487c-b596-745ce3f1e175')\"\n",
              "              title=\"Convert this dataframe to an interactive table.\"\n",
              "              style=\"display:none;\">\n",
              "        \n",
              "  <svg xmlns=\"http://www.w3.org/2000/svg\" height=\"24px\"viewBox=\"0 0 24 24\"\n",
              "       width=\"24px\">\n",
              "    <path d=\"M0 0h24v24H0V0z\" fill=\"none\"/>\n",
              "    <path d=\"M18.56 5.44l.94 2.06.94-2.06 2.06-.94-2.06-.94-.94-2.06-.94 2.06-2.06.94zm-11 1L8.5 8.5l.94-2.06 2.06-.94-2.06-.94L8.5 2.5l-.94 2.06-2.06.94zm10 10l.94 2.06.94-2.06 2.06-.94-2.06-.94-.94-2.06-.94 2.06-2.06.94z\"/><path d=\"M17.41 7.96l-1.37-1.37c-.4-.4-.92-.59-1.43-.59-.52 0-1.04.2-1.43.59L10.3 9.45l-7.72 7.72c-.78.78-.78 2.05 0 2.83L4 21.41c.39.39.9.59 1.41.59.51 0 1.02-.2 1.41-.59l7.78-7.78 2.81-2.81c.8-.78.8-2.07 0-2.86zM5.41 20L4 18.59l7.72-7.72 1.47 1.35L5.41 20z\"/>\n",
              "  </svg>\n",
              "      </button>\n",
              "      \n",
              "  <style>\n",
              "    .colab-df-container {\n",
              "      display:flex;\n",
              "      flex-wrap:wrap;\n",
              "      gap: 12px;\n",
              "    }\n",
              "\n",
              "    .colab-df-convert {\n",
              "      background-color: #E8F0FE;\n",
              "      border: none;\n",
              "      border-radius: 50%;\n",
              "      cursor: pointer;\n",
              "      display: none;\n",
              "      fill: #1967D2;\n",
              "      height: 32px;\n",
              "      padding: 0 0 0 0;\n",
              "      width: 32px;\n",
              "    }\n",
              "\n",
              "    .colab-df-convert:hover {\n",
              "      background-color: #E2EBFA;\n",
              "      box-shadow: 0px 1px 2px rgba(60, 64, 67, 0.3), 0px 1px 3px 1px rgba(60, 64, 67, 0.15);\n",
              "      fill: #174EA6;\n",
              "    }\n",
              "\n",
              "    [theme=dark] .colab-df-convert {\n",
              "      background-color: #3B4455;\n",
              "      fill: #D2E3FC;\n",
              "    }\n",
              "\n",
              "    [theme=dark] .colab-df-convert:hover {\n",
              "      background-color: #434B5C;\n",
              "      box-shadow: 0px 1px 3px 1px rgba(0, 0, 0, 0.15);\n",
              "      filter: drop-shadow(0px 1px 2px rgba(0, 0, 0, 0.3));\n",
              "      fill: #FFFFFF;\n",
              "    }\n",
              "  </style>\n",
              "\n",
              "      <script>\n",
              "        const buttonEl =\n",
              "          document.querySelector('#df-85296a8b-ba63-487c-b596-745ce3f1e175 button.colab-df-convert');\n",
              "        buttonEl.style.display =\n",
              "          google.colab.kernel.accessAllowed ? 'block' : 'none';\n",
              "\n",
              "        async function convertToInteractive(key) {\n",
              "          const element = document.querySelector('#df-85296a8b-ba63-487c-b596-745ce3f1e175');\n",
              "          const dataTable =\n",
              "            await google.colab.kernel.invokeFunction('convertToInteractive',\n",
              "                                                     [key], {});\n",
              "          if (!dataTable) return;\n",
              "\n",
              "          const docLinkHtml = 'Like what you see? Visit the ' +\n",
              "            '<a target=\"_blank\" href=https://colab.research.google.com/notebooks/data_table.ipynb>data table notebook</a>'\n",
              "            + ' to learn more about interactive tables.';\n",
              "          element.innerHTML = '';\n",
              "          dataTable['output_type'] = 'display_data';\n",
              "          await google.colab.output.renderOutput(dataTable, element);\n",
              "          const docLink = document.createElement('div');\n",
              "          docLink.innerHTML = docLinkHtml;\n",
              "          element.appendChild(docLink);\n",
              "        }\n",
              "      </script>\n",
              "    </div>\n",
              "  </div>\n",
              "  "
            ]
          },
          "metadata": {},
          "execution_count": 122
        }
      ]
    },
    {
      "cell_type": "markdown",
      "source": [
        "**Median analysis variables**\n",
        "\n",
        "En estas variables nulas se utiliza la mediana para no mezclar valores flotantes y enteros"
      ],
      "metadata": {
        "id": "eAA5TD-ZyftP"
      }
    },
    {
      "cell_type": "code",
      "source": [
        "gender_median = ndf2.Gender.median()\n",
        "gender_median"
      ],
      "metadata": {
        "colab": {
          "base_uri": "https://localhost:8080/"
        },
        "id": "XzK8_U-coqLz",
        "outputId": "0d55bf87-dc0b-441d-c2dd-a5111365897f"
      },
      "execution_count": 119,
      "outputs": [
        {
          "output_type": "execute_result",
          "data": {
            "text/plain": [
              "2.0"
            ]
          },
          "metadata": {},
          "execution_count": 119
        }
      ]
    },
    {
      "cell_type": "code",
      "source": [
        "education_median = ndf2.Education.median()\n",
        "education_median"
      ],
      "metadata": {
        "colab": {
          "base_uri": "https://localhost:8080/"
        },
        "id": "lG05UDsuwZQo",
        "outputId": "823ab13a-e810-450c-e64f-4241ab637c20"
      },
      "execution_count": 121,
      "outputs": [
        {
          "output_type": "execute_result",
          "data": {
            "text/plain": [
              "2.0"
            ]
          },
          "metadata": {},
          "execution_count": 121
        }
      ]
    },
    {
      "cell_type": "code",
      "source": [
        "marital_status = ndf2.Marital_Status.median()\n",
        "marital_status"
      ],
      "metadata": {
        "colab": {
          "base_uri": "https://localhost:8080/"
        },
        "id": "vFKKrS51wsgI",
        "outputId": "98c588e7-85ee-4838-9776-85af5f1e299d"
      },
      "execution_count": 124,
      "outputs": [
        {
          "output_type": "execute_result",
          "data": {
            "text/plain": [
              "2.0"
            ]
          },
          "metadata": {},
          "execution_count": 124
        }
      ]
    },
    {
      "cell_type": "code",
      "source": [
        "age_median = ndf2.Age.median()\n",
        "age_median"
      ],
      "metadata": {
        "colab": {
          "base_uri": "https://localhost:8080/"
        },
        "id": "tW4WXgr8xR6r",
        "outputId": "3776a4f6-a552-463e-9ec6-b9ebccc00238"
      },
      "execution_count": 126,
      "outputs": [
        {
          "output_type": "execute_result",
          "data": {
            "text/plain": [
              "34.0"
            ]
          },
          "metadata": {},
          "execution_count": 126
        }
      ]
    },
    {
      "cell_type": "code",
      "source": [
        "pay01_median = ndf2.Pay01.median()\n",
        "pay02_median = ndf2.Pay02.median()\n",
        "pay03_median = ndf2.Pay03.median()\n",
        "pay04_median = ndf2.Pay04.median()\n",
        "pay05_median = ndf2.Pay05.median()\n",
        "pay06_median = ndf2.Pay06.median()"
      ],
      "metadata": {
        "id": "obD23yTIxcBg"
      },
      "execution_count": 127,
      "outputs": []
    },
    {
      "cell_type": "code",
      "source": [
        "credible_client_median = ndf2.Credible_client.median()\n",
        "credible_client_median"
      ],
      "metadata": {
        "colab": {
          "base_uri": "https://localhost:8080/"
        },
        "id": "oPYx-Qxfx8wz",
        "outputId": "07daa7ae-b6bf-415b-991b-1be7e1529960"
      },
      "execution_count": 128,
      "outputs": [
        {
          "output_type": "execute_result",
          "data": {
            "text/plain": [
              "0.0"
            ]
          },
          "metadata": {},
          "execution_count": 128
        }
      ]
    },
    {
      "cell_type": "markdown",
      "source": [
        "**Mean analysis variables**\n",
        "\n",
        "En estas variables se busca el promedio de columnas independientes"
      ],
      "metadata": {
        "id": "0UrY6C61zHae"
      }
    },
    {
      "cell_type": "code",
      "source": [
        "amount_of_given_credit_mean = ndf2.Amount_of_given_credit.mean()\n",
        "amount_of_given_credit_mean"
      ],
      "metadata": {
        "colab": {
          "base_uri": "https://localhost:8080/"
        },
        "id": "RE03LbUEydah",
        "outputId": "9f6cd9fd-24c7-4e27-9813-40827b85f913"
      },
      "execution_count": 129,
      "outputs": [
        {
          "output_type": "execute_result",
          "data": {
            "text/plain": [
              "167484.32266666667"
            ]
          },
          "metadata": {},
          "execution_count": 129
        }
      ]
    },
    {
      "cell_type": "code",
      "source": [
        "amount_bill_01_mean = ndf2.Amount_Bill_01.mean()\n",
        "amount_bill_02_mean = ndf2.Amount_Bill_02.mean()\n",
        "amount_bill_03_mean = ndf2.Amount_Bill_03.mean()\n",
        "amount_bill_04_mean = ndf2.Amount_Bill_04.mean()\n",
        "amount_bill_05_mean = ndf2.Amount_Bill_05.mean()\n",
        "amount_bill_06_mean = ndf2.Amount_Bill_06.mean()\n",
        "\n",
        "amount_prev_bill_01 = ndf2.Amount_Prev_Pay_01.mean()\n",
        "amount_prev_bill_02 = ndf2.Amount_Prev_Pay_02.mean()\n",
        "amount_prev_bill_03 = ndf2.Amount_Prev_Pay_03.mean()\n",
        "amount_prev_bill_04 = ndf2.Amount_Prev_Pay_04.mean()\n",
        "amount_prev_bill_05 = ndf2.Amount_Prev_Pay_05.mean()\n",
        "amount_prev_bill_06 = ndf2.Amount_Prev_Pay_06.mean()"
      ],
      "metadata": {
        "id": "vdnlwFSVzGVD"
      },
      "execution_count": 130,
      "outputs": []
    },
    {
      "cell_type": "markdown",
      "source": [
        "**Fill all Nan values**\n",
        "\n",
        "En lugar de eliminar multiples filas (reducir conjunto de datos), se decide reemplazar por valores promedio y medianas\n"
      ],
      "metadata": {
        "id": "OKCPS8sc0qwk"
      }
    },
    {
      "cell_type": "code",
      "source": [
        "ndf2['Amount_of_given_credit'].fillna(value = amount_of_given_credit_mean, inplace = True)\n",
        "ndf2['Gender'].fillna(value = gender_median, inplace = True)\n",
        "ndf2['Education'].fillna(value = education_median, inplace = True)\n",
        "ndf2['Marital_Status'].fillna(value = marital_status, inplace = True)\n",
        "ndf2['Age'].fillna(value = age_median, inplace = True)\n",
        "ndf2['Pay01'].fillna(value = pay01_median, inplace = True)\n",
        "ndf2['Pay02'].fillna(value = pay02_median, inplace = True)\n",
        "ndf2['Pay03'].fillna(value = pay03_median, inplace = True)\n",
        "ndf2['Pay04'].fillna(value = pay04_median, inplace = True)\n",
        "ndf2['Pay05'].fillna(value = pay05_median, inplace = True)\n",
        "ndf2['Pay06'].fillna(value = pay06_median, inplace = True)\n",
        "ndf2['Amount_Bill_01'].fillna(value = amount_bill_01_mean, inplace = True)\n",
        "ndf2['Amount_Bill_02'].fillna(value = amount_bill_02_mean, inplace = True)\n",
        "ndf2['Amount_Bill_03'].fillna(value = amount_bill_03_mean, inplace = True)\n",
        "ndf2['Amount_Bill_04'].fillna(value = amount_bill_04_mean, inplace = True)\n",
        "ndf2['Amount_Bill_05'].fillna(value = amount_bill_05_mean, inplace = True)\n",
        "ndf2['Amount_Bill_06'].fillna(value = amount_bill_06_mean, inplace = True)\n",
        "ndf2['Amount_Prev_Pay_01'].fillna(value = amount_prev_bill_01, inplace = True)\n",
        "ndf2['Amount_Prev_Pay_02'].fillna(value = amount_prev_bill_02, inplace = True)\n",
        "ndf2['Amount_Prev_Pay_03'].fillna(value = amount_prev_bill_03, inplace = True)\n",
        "ndf2['Amount_Prev_Pay_04'].fillna(value = amount_prev_bill_04, inplace = True)\n",
        "ndf2['Amount_Prev_Pay_05'].fillna(value = amount_prev_bill_05, inplace = True)\n",
        "ndf2['Amount_Prev_Pay_06'].fillna(value = amount_prev_bill_06, inplace = True)\n",
        "ndf2['Credible_client'].fillna(value = credible_client_median, inplace = True)\n"
      ],
      "metadata": {
        "id": "un-ZH3VCzytx"
      },
      "execution_count": 131,
      "outputs": []
    },
    {
      "cell_type": "code",
      "source": [
        "ndf2"
      ],
      "metadata": {
        "colab": {
          "base_uri": "https://localhost:8080/",
          "height": 488
        },
        "id": "le5Xp62k1N9R",
        "outputId": "8dbeb108-825e-42a5-9732-157bce83e264"
      },
      "execution_count": 132,
      "outputs": [
        {
          "output_type": "execute_result",
          "data": {
            "text/plain": [
              "       Amount_of_given_credit  Gender  Education  Marital_Status   Age  Pay01  \\\n",
              "0                       20000     2.0        2.0             1.0  24.0    2.0   \n",
              "1                      120000     2.0        2.0             2.0  26.0    0.0   \n",
              "2                       90000     2.0        2.0             2.0  34.0    0.0   \n",
              "3                       50000     2.0        2.0             1.0  37.0    0.0   \n",
              "4                       50000     1.0        2.0             1.0  57.0    0.0   \n",
              "...                       ...     ...        ...             ...   ...    ...   \n",
              "29995                  220000     1.0        3.0             1.0  39.0    0.0   \n",
              "29996                  150000     1.0        3.0             2.0  43.0    0.0   \n",
              "29997                   30000     1.0        2.0             2.0  37.0    4.0   \n",
              "29998                   80000     1.0        3.0             1.0  41.0    1.0   \n",
              "29999                   50000     1.0        2.0             1.0  46.0    0.0   \n",
              "\n",
              "       Pay02  Pay03  Pay04  Pay05  ...  Amount_Bill_04  Amount_Bill_05  \\\n",
              "0        2.0    0.0    0.0    0.0  ...             0.0             0.0   \n",
              "1        2.0    0.0    0.0    0.0  ...          3272.0          3455.0   \n",
              "2        0.0    0.0    0.0    0.0  ...         14331.0         14948.0   \n",
              "3        0.0    0.0    0.0    0.0  ...         28314.0         28959.0   \n",
              "4        0.0    0.0    0.0    0.0  ...         20940.0         19146.0   \n",
              "...      ...    ...    ...    ...  ...             ...             ...   \n",
              "29995    0.0    0.0    0.0    0.0  ...         88004.0         31237.0   \n",
              "29996    0.0    0.0    0.0    0.0  ...          8979.0          5190.0   \n",
              "29997    3.0    2.0    0.0    0.0  ...         20878.0         20582.0   \n",
              "29998    0.0    0.0    0.0    0.0  ...         52774.0         11855.0   \n",
              "29999    0.0    0.0    0.0    0.0  ...         36535.0         32428.0   \n",
              "\n",
              "       Amount_Bill_06  Amount_Prev_Pay_01  Amount_Prev_Pay_02  \\\n",
              "0                 0.0                 0.0               689.0   \n",
              "1              3261.0                 0.0              1000.0   \n",
              "2             15549.0              1518.0              1500.0   \n",
              "3             29547.0              2000.0              2019.0   \n",
              "4             19131.0              2000.0             36681.0   \n",
              "...               ...                 ...                 ...   \n",
              "29995         15980.0              8500.0             20000.0   \n",
              "29996             0.0              1837.0              3526.0   \n",
              "29997         19357.0                 0.0                 0.0   \n",
              "29998         48944.0             85900.0              3409.0   \n",
              "29999         15313.0              2078.0              1800.0   \n",
              "\n",
              "       Amount_Prev_Pay_03  Amount_Prev_Pay_04  Amount_Prev_Pay_05  \\\n",
              "0                     0.0                 0.0                 0.0   \n",
              "1                  1000.0              1000.0                 0.0   \n",
              "2                  1000.0              1000.0              1000.0   \n",
              "3                  1200.0              1100.0              1069.0   \n",
              "4                 10000.0              9000.0               689.0   \n",
              "...                   ...                 ...                 ...   \n",
              "29995              5003.0              3047.0              5000.0   \n",
              "29996              8998.0               129.0                 0.0   \n",
              "29997             22000.0              4200.0              2000.0   \n",
              "29998              1178.0              1926.0             52964.0   \n",
              "29999              1430.0              1000.0              1000.0   \n",
              "\n",
              "       Amount_Prev_Pay_06  Credible_client  \n",
              "0                     0.0              1.0  \n",
              "1                  2000.0              1.0  \n",
              "2                  5000.0              0.0  \n",
              "3                  1000.0              0.0  \n",
              "4                   679.0              0.0  \n",
              "...                   ...              ...  \n",
              "29995              1000.0              0.0  \n",
              "29996                 0.0              0.0  \n",
              "29997              3100.0              1.0  \n",
              "29998              1804.0              1.0  \n",
              "29999              1000.0              0.0  \n",
              "\n",
              "[30000 rows x 24 columns]"
            ],
            "text/html": [
              "\n",
              "  <div id=\"df-6018eea3-5288-4104-b898-d38f6ce05b76\">\n",
              "    <div class=\"colab-df-container\">\n",
              "      <div>\n",
              "<style scoped>\n",
              "    .dataframe tbody tr th:only-of-type {\n",
              "        vertical-align: middle;\n",
              "    }\n",
              "\n",
              "    .dataframe tbody tr th {\n",
              "        vertical-align: top;\n",
              "    }\n",
              "\n",
              "    .dataframe thead th {\n",
              "        text-align: right;\n",
              "    }\n",
              "</style>\n",
              "<table border=\"1\" class=\"dataframe\">\n",
              "  <thead>\n",
              "    <tr style=\"text-align: right;\">\n",
              "      <th></th>\n",
              "      <th>Amount_of_given_credit</th>\n",
              "      <th>Gender</th>\n",
              "      <th>Education</th>\n",
              "      <th>Marital_Status</th>\n",
              "      <th>Age</th>\n",
              "      <th>Pay01</th>\n",
              "      <th>Pay02</th>\n",
              "      <th>Pay03</th>\n",
              "      <th>Pay04</th>\n",
              "      <th>Pay05</th>\n",
              "      <th>...</th>\n",
              "      <th>Amount_Bill_04</th>\n",
              "      <th>Amount_Bill_05</th>\n",
              "      <th>Amount_Bill_06</th>\n",
              "      <th>Amount_Prev_Pay_01</th>\n",
              "      <th>Amount_Prev_Pay_02</th>\n",
              "      <th>Amount_Prev_Pay_03</th>\n",
              "      <th>Amount_Prev_Pay_04</th>\n",
              "      <th>Amount_Prev_Pay_05</th>\n",
              "      <th>Amount_Prev_Pay_06</th>\n",
              "      <th>Credible_client</th>\n",
              "    </tr>\n",
              "  </thead>\n",
              "  <tbody>\n",
              "    <tr>\n",
              "      <th>0</th>\n",
              "      <td>20000</td>\n",
              "      <td>2.0</td>\n",
              "      <td>2.0</td>\n",
              "      <td>1.0</td>\n",
              "      <td>24.0</td>\n",
              "      <td>2.0</td>\n",
              "      <td>2.0</td>\n",
              "      <td>0.0</td>\n",
              "      <td>0.0</td>\n",
              "      <td>0.0</td>\n",
              "      <td>...</td>\n",
              "      <td>0.0</td>\n",
              "      <td>0.0</td>\n",
              "      <td>0.0</td>\n",
              "      <td>0.0</td>\n",
              "      <td>689.0</td>\n",
              "      <td>0.0</td>\n",
              "      <td>0.0</td>\n",
              "      <td>0.0</td>\n",
              "      <td>0.0</td>\n",
              "      <td>1.0</td>\n",
              "    </tr>\n",
              "    <tr>\n",
              "      <th>1</th>\n",
              "      <td>120000</td>\n",
              "      <td>2.0</td>\n",
              "      <td>2.0</td>\n",
              "      <td>2.0</td>\n",
              "      <td>26.0</td>\n",
              "      <td>0.0</td>\n",
              "      <td>2.0</td>\n",
              "      <td>0.0</td>\n",
              "      <td>0.0</td>\n",
              "      <td>0.0</td>\n",
              "      <td>...</td>\n",
              "      <td>3272.0</td>\n",
              "      <td>3455.0</td>\n",
              "      <td>3261.0</td>\n",
              "      <td>0.0</td>\n",
              "      <td>1000.0</td>\n",
              "      <td>1000.0</td>\n",
              "      <td>1000.0</td>\n",
              "      <td>0.0</td>\n",
              "      <td>2000.0</td>\n",
              "      <td>1.0</td>\n",
              "    </tr>\n",
              "    <tr>\n",
              "      <th>2</th>\n",
              "      <td>90000</td>\n",
              "      <td>2.0</td>\n",
              "      <td>2.0</td>\n",
              "      <td>2.0</td>\n",
              "      <td>34.0</td>\n",
              "      <td>0.0</td>\n",
              "      <td>0.0</td>\n",
              "      <td>0.0</td>\n",
              "      <td>0.0</td>\n",
              "      <td>0.0</td>\n",
              "      <td>...</td>\n",
              "      <td>14331.0</td>\n",
              "      <td>14948.0</td>\n",
              "      <td>15549.0</td>\n",
              "      <td>1518.0</td>\n",
              "      <td>1500.0</td>\n",
              "      <td>1000.0</td>\n",
              "      <td>1000.0</td>\n",
              "      <td>1000.0</td>\n",
              "      <td>5000.0</td>\n",
              "      <td>0.0</td>\n",
              "    </tr>\n",
              "    <tr>\n",
              "      <th>3</th>\n",
              "      <td>50000</td>\n",
              "      <td>2.0</td>\n",
              "      <td>2.0</td>\n",
              "      <td>1.0</td>\n",
              "      <td>37.0</td>\n",
              "      <td>0.0</td>\n",
              "      <td>0.0</td>\n",
              "      <td>0.0</td>\n",
              "      <td>0.0</td>\n",
              "      <td>0.0</td>\n",
              "      <td>...</td>\n",
              "      <td>28314.0</td>\n",
              "      <td>28959.0</td>\n",
              "      <td>29547.0</td>\n",
              "      <td>2000.0</td>\n",
              "      <td>2019.0</td>\n",
              "      <td>1200.0</td>\n",
              "      <td>1100.0</td>\n",
              "      <td>1069.0</td>\n",
              "      <td>1000.0</td>\n",
              "      <td>0.0</td>\n",
              "    </tr>\n",
              "    <tr>\n",
              "      <th>4</th>\n",
              "      <td>50000</td>\n",
              "      <td>1.0</td>\n",
              "      <td>2.0</td>\n",
              "      <td>1.0</td>\n",
              "      <td>57.0</td>\n",
              "      <td>0.0</td>\n",
              "      <td>0.0</td>\n",
              "      <td>0.0</td>\n",
              "      <td>0.0</td>\n",
              "      <td>0.0</td>\n",
              "      <td>...</td>\n",
              "      <td>20940.0</td>\n",
              "      <td>19146.0</td>\n",
              "      <td>19131.0</td>\n",
              "      <td>2000.0</td>\n",
              "      <td>36681.0</td>\n",
              "      <td>10000.0</td>\n",
              "      <td>9000.0</td>\n",
              "      <td>689.0</td>\n",
              "      <td>679.0</td>\n",
              "      <td>0.0</td>\n",
              "    </tr>\n",
              "    <tr>\n",
              "      <th>...</th>\n",
              "      <td>...</td>\n",
              "      <td>...</td>\n",
              "      <td>...</td>\n",
              "      <td>...</td>\n",
              "      <td>...</td>\n",
              "      <td>...</td>\n",
              "      <td>...</td>\n",
              "      <td>...</td>\n",
              "      <td>...</td>\n",
              "      <td>...</td>\n",
              "      <td>...</td>\n",
              "      <td>...</td>\n",
              "      <td>...</td>\n",
              "      <td>...</td>\n",
              "      <td>...</td>\n",
              "      <td>...</td>\n",
              "      <td>...</td>\n",
              "      <td>...</td>\n",
              "      <td>...</td>\n",
              "      <td>...</td>\n",
              "      <td>...</td>\n",
              "    </tr>\n",
              "    <tr>\n",
              "      <th>29995</th>\n",
              "      <td>220000</td>\n",
              "      <td>1.0</td>\n",
              "      <td>3.0</td>\n",
              "      <td>1.0</td>\n",
              "      <td>39.0</td>\n",
              "      <td>0.0</td>\n",
              "      <td>0.0</td>\n",
              "      <td>0.0</td>\n",
              "      <td>0.0</td>\n",
              "      <td>0.0</td>\n",
              "      <td>...</td>\n",
              "      <td>88004.0</td>\n",
              "      <td>31237.0</td>\n",
              "      <td>15980.0</td>\n",
              "      <td>8500.0</td>\n",
              "      <td>20000.0</td>\n",
              "      <td>5003.0</td>\n",
              "      <td>3047.0</td>\n",
              "      <td>5000.0</td>\n",
              "      <td>1000.0</td>\n",
              "      <td>0.0</td>\n",
              "    </tr>\n",
              "    <tr>\n",
              "      <th>29996</th>\n",
              "      <td>150000</td>\n",
              "      <td>1.0</td>\n",
              "      <td>3.0</td>\n",
              "      <td>2.0</td>\n",
              "      <td>43.0</td>\n",
              "      <td>0.0</td>\n",
              "      <td>0.0</td>\n",
              "      <td>0.0</td>\n",
              "      <td>0.0</td>\n",
              "      <td>0.0</td>\n",
              "      <td>...</td>\n",
              "      <td>8979.0</td>\n",
              "      <td>5190.0</td>\n",
              "      <td>0.0</td>\n",
              "      <td>1837.0</td>\n",
              "      <td>3526.0</td>\n",
              "      <td>8998.0</td>\n",
              "      <td>129.0</td>\n",
              "      <td>0.0</td>\n",
              "      <td>0.0</td>\n",
              "      <td>0.0</td>\n",
              "    </tr>\n",
              "    <tr>\n",
              "      <th>29997</th>\n",
              "      <td>30000</td>\n",
              "      <td>1.0</td>\n",
              "      <td>2.0</td>\n",
              "      <td>2.0</td>\n",
              "      <td>37.0</td>\n",
              "      <td>4.0</td>\n",
              "      <td>3.0</td>\n",
              "      <td>2.0</td>\n",
              "      <td>0.0</td>\n",
              "      <td>0.0</td>\n",
              "      <td>...</td>\n",
              "      <td>20878.0</td>\n",
              "      <td>20582.0</td>\n",
              "      <td>19357.0</td>\n",
              "      <td>0.0</td>\n",
              "      <td>0.0</td>\n",
              "      <td>22000.0</td>\n",
              "      <td>4200.0</td>\n",
              "      <td>2000.0</td>\n",
              "      <td>3100.0</td>\n",
              "      <td>1.0</td>\n",
              "    </tr>\n",
              "    <tr>\n",
              "      <th>29998</th>\n",
              "      <td>80000</td>\n",
              "      <td>1.0</td>\n",
              "      <td>3.0</td>\n",
              "      <td>1.0</td>\n",
              "      <td>41.0</td>\n",
              "      <td>1.0</td>\n",
              "      <td>0.0</td>\n",
              "      <td>0.0</td>\n",
              "      <td>0.0</td>\n",
              "      <td>0.0</td>\n",
              "      <td>...</td>\n",
              "      <td>52774.0</td>\n",
              "      <td>11855.0</td>\n",
              "      <td>48944.0</td>\n",
              "      <td>85900.0</td>\n",
              "      <td>3409.0</td>\n",
              "      <td>1178.0</td>\n",
              "      <td>1926.0</td>\n",
              "      <td>52964.0</td>\n",
              "      <td>1804.0</td>\n",
              "      <td>1.0</td>\n",
              "    </tr>\n",
              "    <tr>\n",
              "      <th>29999</th>\n",
              "      <td>50000</td>\n",
              "      <td>1.0</td>\n",
              "      <td>2.0</td>\n",
              "      <td>1.0</td>\n",
              "      <td>46.0</td>\n",
              "      <td>0.0</td>\n",
              "      <td>0.0</td>\n",
              "      <td>0.0</td>\n",
              "      <td>0.0</td>\n",
              "      <td>0.0</td>\n",
              "      <td>...</td>\n",
              "      <td>36535.0</td>\n",
              "      <td>32428.0</td>\n",
              "      <td>15313.0</td>\n",
              "      <td>2078.0</td>\n",
              "      <td>1800.0</td>\n",
              "      <td>1430.0</td>\n",
              "      <td>1000.0</td>\n",
              "      <td>1000.0</td>\n",
              "      <td>1000.0</td>\n",
              "      <td>0.0</td>\n",
              "    </tr>\n",
              "  </tbody>\n",
              "</table>\n",
              "<p>30000 rows × 24 columns</p>\n",
              "</div>\n",
              "      <button class=\"colab-df-convert\" onclick=\"convertToInteractive('df-6018eea3-5288-4104-b898-d38f6ce05b76')\"\n",
              "              title=\"Convert this dataframe to an interactive table.\"\n",
              "              style=\"display:none;\">\n",
              "        \n",
              "  <svg xmlns=\"http://www.w3.org/2000/svg\" height=\"24px\"viewBox=\"0 0 24 24\"\n",
              "       width=\"24px\">\n",
              "    <path d=\"M0 0h24v24H0V0z\" fill=\"none\"/>\n",
              "    <path d=\"M18.56 5.44l.94 2.06.94-2.06 2.06-.94-2.06-.94-.94-2.06-.94 2.06-2.06.94zm-11 1L8.5 8.5l.94-2.06 2.06-.94-2.06-.94L8.5 2.5l-.94 2.06-2.06.94zm10 10l.94 2.06.94-2.06 2.06-.94-2.06-.94-.94-2.06-.94 2.06-2.06.94z\"/><path d=\"M17.41 7.96l-1.37-1.37c-.4-.4-.92-.59-1.43-.59-.52 0-1.04.2-1.43.59L10.3 9.45l-7.72 7.72c-.78.78-.78 2.05 0 2.83L4 21.41c.39.39.9.59 1.41.59.51 0 1.02-.2 1.41-.59l7.78-7.78 2.81-2.81c.8-.78.8-2.07 0-2.86zM5.41 20L4 18.59l7.72-7.72 1.47 1.35L5.41 20z\"/>\n",
              "  </svg>\n",
              "      </button>\n",
              "      \n",
              "  <style>\n",
              "    .colab-df-container {\n",
              "      display:flex;\n",
              "      flex-wrap:wrap;\n",
              "      gap: 12px;\n",
              "    }\n",
              "\n",
              "    .colab-df-convert {\n",
              "      background-color: #E8F0FE;\n",
              "      border: none;\n",
              "      border-radius: 50%;\n",
              "      cursor: pointer;\n",
              "      display: none;\n",
              "      fill: #1967D2;\n",
              "      height: 32px;\n",
              "      padding: 0 0 0 0;\n",
              "      width: 32px;\n",
              "    }\n",
              "\n",
              "    .colab-df-convert:hover {\n",
              "      background-color: #E2EBFA;\n",
              "      box-shadow: 0px 1px 2px rgba(60, 64, 67, 0.3), 0px 1px 3px 1px rgba(60, 64, 67, 0.15);\n",
              "      fill: #174EA6;\n",
              "    }\n",
              "\n",
              "    [theme=dark] .colab-df-convert {\n",
              "      background-color: #3B4455;\n",
              "      fill: #D2E3FC;\n",
              "    }\n",
              "\n",
              "    [theme=dark] .colab-df-convert:hover {\n",
              "      background-color: #434B5C;\n",
              "      box-shadow: 0px 1px 3px 1px rgba(0, 0, 0, 0.15);\n",
              "      filter: drop-shadow(0px 1px 2px rgba(0, 0, 0, 0.3));\n",
              "      fill: #FFFFFF;\n",
              "    }\n",
              "  </style>\n",
              "\n",
              "      <script>\n",
              "        const buttonEl =\n",
              "          document.querySelector('#df-6018eea3-5288-4104-b898-d38f6ce05b76 button.colab-df-convert');\n",
              "        buttonEl.style.display =\n",
              "          google.colab.kernel.accessAllowed ? 'block' : 'none';\n",
              "\n",
              "        async function convertToInteractive(key) {\n",
              "          const element = document.querySelector('#df-6018eea3-5288-4104-b898-d38f6ce05b76');\n",
              "          const dataTable =\n",
              "            await google.colab.kernel.invokeFunction('convertToInteractive',\n",
              "                                                     [key], {});\n",
              "          if (!dataTable) return;\n",
              "\n",
              "          const docLinkHtml = 'Like what you see? Visit the ' +\n",
              "            '<a target=\"_blank\" href=https://colab.research.google.com/notebooks/data_table.ipynb>data table notebook</a>'\n",
              "            + ' to learn more about interactive tables.';\n",
              "          element.innerHTML = '';\n",
              "          dataTable['output_type'] = 'display_data';\n",
              "          await google.colab.output.renderOutput(dataTable, element);\n",
              "          const docLink = document.createElement('div');\n",
              "          docLink.innerHTML = docLinkHtml;\n",
              "          element.appendChild(docLink);\n",
              "        }\n",
              "      </script>\n",
              "    </div>\n",
              "  </div>\n",
              "  "
            ]
          },
          "metadata": {},
          "execution_count": 132
        }
      ]
    },
    {
      "cell_type": "markdown",
      "source": [
        "## Resultado"
      ],
      "metadata": {
        "id": "z7db_dNT2TzR"
      }
    },
    {
      "cell_type": "markdown",
      "source": [
        "Se ha limpiado el conjunto de datos. \n",
        "Se elimina el ruido, datos incoherentes y atipicos"
      ],
      "metadata": {
        "id": "UtnQOnph2Way"
      }
    },
    {
      "cell_type": "code",
      "source": [
        "ndf2.isnull().sum()"
      ],
      "metadata": {
        "colab": {
          "base_uri": "https://localhost:8080/"
        },
        "id": "SGlUHJ3W1PBQ",
        "outputId": "c4cd4cb2-5fe8-4601-8704-5f2f283efbce"
      },
      "execution_count": 134,
      "outputs": [
        {
          "output_type": "execute_result",
          "data": {
            "text/plain": [
              "Amount_of_given_credit    0\n",
              "Gender                    0\n",
              "Education                 0\n",
              "Marital_Status            0\n",
              "Age                       0\n",
              "Pay01                     0\n",
              "Pay02                     0\n",
              "Pay03                     0\n",
              "Pay04                     0\n",
              "Pay05                     0\n",
              "Pay06                     0\n",
              "Amount_Bill_01            0\n",
              "Amount_Bill_02            0\n",
              "Amount_Bill_03            0\n",
              "Amount_Bill_04            0\n",
              "Amount_Bill_05            0\n",
              "Amount_Bill_06            0\n",
              "Amount_Prev_Pay_01        0\n",
              "Amount_Prev_Pay_02        0\n",
              "Amount_Prev_Pay_03        0\n",
              "Amount_Prev_Pay_04        0\n",
              "Amount_Prev_Pay_05        0\n",
              "Amount_Prev_Pay_06        0\n",
              "Credible_client           0\n",
              "dtype: int64"
            ]
          },
          "metadata": {},
          "execution_count": 134
        }
      ]
    },
    {
      "cell_type": "markdown",
      "source": [
        "## Informe"
      ],
      "metadata": {
        "id": "V6Lwbijz2sfN"
      }
    },
    {
      "cell_type": "markdown",
      "source": [
        "Durante la limpieza de este conjunto, primero se entendieron los datos, es decir: \n",
        "\n",
        "* ¿Qué son? – Datos de clientes de banco (Crédito)\n",
        "\n",
        "* ¿Son categóricos o numéricos? – Ambos. \n",
        "* ¿Son válidos o incoherentes?  - Algunos casos contienen valores fuera de lo esperado\n",
        "* ¿Tienen casos nulos? – Si, múltiples.\n",
        "\n",
        "Una vez contestadas estas preguntas se ordenan y se les etiqueta con el fin de hacer un recorrido por cada variable y eliminar valores fuera de rango. Se revisa si se tiene casos nulos, se saca el promedio y medianas, y por último se actualizan estos dichos datos.   \n"
      ],
      "metadata": {
        "id": "lTsJqhr82uPa"
      }
    },
    {
      "cell_type": "code",
      "source": [
        "ndf2.hist(bins=20, figsize=(20,20))"
      ],
      "metadata": {
        "colab": {
          "base_uri": "https://localhost:8080/",
          "height": 1000
        },
        "id": "agADKHQv1U9Z",
        "outputId": "a43bdc1b-4b44-4b45-bfae-b3acd76567ef"
      },
      "execution_count": 139,
      "outputs": [
        {
          "output_type": "execute_result",
          "data": {
            "text/plain": [
              "array([[<matplotlib.axes._subplots.AxesSubplot object at 0x7f5bf72f8bd0>,\n",
              "        <matplotlib.axes._subplots.AxesSubplot object at 0x7f5bf52de390>,\n",
              "        <matplotlib.axes._subplots.AxesSubplot object at 0x7f5bf51f93d0>,\n",
              "        <matplotlib.axes._subplots.AxesSubplot object at 0x7f5bf518a8d0>,\n",
              "        <matplotlib.axes._subplots.AxesSubplot object at 0x7f5bf519bdd0>],\n",
              "       [<matplotlib.axes._subplots.AxesSubplot object at 0x7f5bf51b7310>,\n",
              "        <matplotlib.axes._subplots.AxesSubplot object at 0x7f5bf515b890>,\n",
              "        <matplotlib.axes._subplots.AxesSubplot object at 0x7f5bf5100cd0>,\n",
              "        <matplotlib.axes._subplots.AxesSubplot object at 0x7f5bf5100d10>,\n",
              "        <matplotlib.axes._subplots.AxesSubplot object at 0x7f5bf513b350>],\n",
              "       [<matplotlib.axes._subplots.AxesSubplot object at 0x7f5bf509fc50>,\n",
              "        <matplotlib.axes._subplots.AxesSubplot object at 0x7f5bf5060190>,\n",
              "        <matplotlib.axes._subplots.AxesSubplot object at 0x7f5bf50167d0>,\n",
              "        <matplotlib.axes._subplots.AxesSubplot object at 0x7f5bf4fcbc10>,\n",
              "        <matplotlib.axes._subplots.AxesSubplot object at 0x7f5bf4f90150>],\n",
              "       [<matplotlib.axes._subplots.AxesSubplot object at 0x7f5bf4f47650>,\n",
              "        <matplotlib.axes._subplots.AxesSubplot object at 0x7f5bf4efcb50>,\n",
              "        <matplotlib.axes._subplots.AxesSubplot object at 0x7f5bf4f29b90>,\n",
              "        <matplotlib.axes._subplots.AxesSubplot object at 0x7f5bf4ef8590>,\n",
              "        <matplotlib.axes._subplots.AxesSubplot object at 0x7f5bf4eafa90>],\n",
              "       [<matplotlib.axes._subplots.AxesSubplot object at 0x7f5bf4e67f90>,\n",
              "        <matplotlib.axes._subplots.AxesSubplot object at 0x7f5bf4e274d0>,\n",
              "        <matplotlib.axes._subplots.AxesSubplot object at 0x7f5bf4de29d0>,\n",
              "        <matplotlib.axes._subplots.AxesSubplot object at 0x7f5bf4d96ed0>,\n",
              "        <matplotlib.axes._subplots.AxesSubplot object at 0x7f5bf4d5b410>]],\n",
              "      dtype=object)"
            ]
          },
          "metadata": {},
          "execution_count": 139
        },
        {
          "output_type": "display_data",
          "data": {
            "text/plain": [
              "<Figure size 1440x1440 with 25 Axes>"
            ],
            "image/png": "[encoded data removed]"
          },
          "metadata": {
            "needs_background": "light"
          }
        }
      ]
    },
    {
      "cell_type": "markdown",
      "source": [
        "### Parte 3:  Preparación de los datos"
      ],
      "metadata": {
        "id": "TRHOELpN6ZZU"
      }
    },
    {
      "cell_type": "markdown",
      "source": [
        "Con base en los resultados de tu libreta de Google Colab de la Parte 2 responde detalladamente las siguientes preguntas: \n",
        "\n",
        "1.\t¿Qué datos considero más importantes? ¿Por qué?\n",
        "*\tEducación \n",
        "*\tEdad\n",
        "*\tEstatus Marital\n",
        "*\tPagos\n",
        "\n",
        "Pagos debido al historial se puede tener una idea clara de como es el cliente al momento de los pagos, donde no existe adeudo y se puede confiar que el cliente siga así hasta demostrar lo contrario, inclusive sin necesitad de análisis.\n",
        "\n",
        "Educación, edad y estatus marital vienen como variables secundarias debido a creencias, apoyos y mentalidad financiera. Estos pueden influir de otras maneras las cuales necesitaríamos analizar para encontrar relación o correlación a lo esperado.\n",
        "\n",
        "2.\t¿Se eliminaron o reemplazaron datos nulos? ¿Qué se hizo y por qué?\n",
        "\t\n",
        "* Se reemplazaron datos nulos con los valores promedio y medianas, con el fin de no reducir el número de filas del conjunto de datos. Para esto se optó por limpiar de manera diferente el conjunto para obtener mejores promedios y medianas, es decir, se cancelaron ruidos y datos incoherentes.\n",
        "\n",
        "3.\t¿Es necesario ordenar los datos para el análisis? Sí / No / ¿Por qué?\n",
        "*\tSi es necesario. Tener el conjunto de datos ordenados te brinda una mejor claridad de los recursos que tienes, te deja ver desde distintos puntos la capacidad que tiene tu conjunto de rendir y al momento de interactuar con ellos se vuelve más fácil.\n",
        "\n",
        "4.\t¿Existen problemas de formato que deban solucionar antes del proceso de modelado? Sí / No / Por qué.\n",
        "*\tNo, en este caso no se cambiaron los formatos de las columnas ya que todas al ser de carácter numérico son manipulables para nuestros fines. En cambio, si en dado caso hubiéramos recibido la columna de género como Hombre/Mujer, hubiéramos tenido que adaptar esta columna de manera diferente.\n",
        "5.\t¿Qué ajustes se realizaron en el proceso de limpieza de datos (agregar, integrar, eliminar, modificar registros (filas), cambiar atributos (columnas)?\n",
        "*\tEtiquetamos datos para identificación de columnas\n",
        "*\tSe modificaron valores fuera de los parámetros \n",
        "*\tSe actualizaron valores nulos por promedios y medianas.\n"
      ],
      "metadata": {
        "id": "JPCjEV6Z-5kE"
      }
    },
    {
      "cell_type": "code",
      "source": [],
      "metadata": {
        "id": "bopAGjzn4yjX"
      },
      "execution_count": null,
      "outputs": []
    }
  ]
}